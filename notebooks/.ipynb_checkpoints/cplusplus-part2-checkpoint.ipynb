{
 "cells": [
  {
   "cell_type": "markdown",
   "metadata": {},
   "source": [
    "<h1> This Section covers CHAPTER 5, 6, 7 AND 8 FOR C++ </h1> "
   ]
  },
  {
   "cell_type": "markdown",
   "metadata": {},
   "source": [
    "<h1> LOOPS AND RELATIONAL EXPRESSIONS CHAPTER 5 </h1> <br> \n",
    "\n",
    "<h3> FOR LOOPS </h3> "
   ]
  },
  {
   "cell_type": "code",
   "execution_count": 1,
   "metadata": {},
   "outputs": [
    {
     "name": "stdout",
     "output_type": "stream",
     "text": [
      "Counting from: 0\n",
      "Counting from: 1\n",
      "Counting from: 2\n",
      "Counting from: 3\n",
      "Counting from: 4\n",
      "To: 5\n"
     ]
    }
   ],
   "source": [
    "// Including the header files \n",
    "#include <iostream> \n",
    "#include <string> \n",
    "\n",
    "// Creating an integer as the for-loop initializer \n",
    "int i = 0; \n",
    "\n",
    "// Creating the for-loop \n",
    "// And using an INCREMENT OPERATOR as the update-expression \n",
    "for (i; i < 5; i++) \n",
    "{\n",
    "    // Executing the block of code if the condition for the for-loop \n",
    "    // Is satified \n",
    "    std::cout << \"Counting from: \" << i << std::endl; \n",
    "}\n",
    "\n",
    "// Ending \n",
    "std::cout << \"To: \" << i << std::endl; "
   ]
  },
  {
   "cell_type": "code",
   "execution_count": 2,
   "metadata": {},
   "outputs": [
    {
     "name": "stdout",
     "output_type": "stream",
     "text": [
      "Count down from: 60\n",
      "Count down from: 59\n",
      "Count down from: 58\n",
      "Count down from: 57\n",
      "Count down from: 56\n",
      "Count down from: 55\n",
      "Count down from: 54\n",
      "Count down from: 53\n",
      "Count down from: 52\n",
      "Count down from: 51\n",
      "Count down from: 50\n",
      "Count down from: 49\n",
      "Count down from: 48\n",
      "Count down from: 47\n",
      "Count down from: 46\n",
      "Count down from: 45\n",
      "Count down from: 44\n",
      "Count down from: 43\n",
      "Count down from: 42\n",
      "Count down from: 41\n",
      "Count down from: 40\n",
      "Count down from: 39\n",
      "Count down from: 38\n",
      "Count down from: 37\n",
      "Count down from: 36\n",
      "Count down from: 35\n",
      "Count down from: 34\n",
      "Count down from: 33\n",
      "Count down from: 32\n",
      "Count down from: 31\n",
      "Count down from: 30\n",
      "Count down from: 29\n",
      "Count down from: 28\n",
      "Count down from: 27\n",
      "Count down from: 26\n",
      "Count down from: 25\n",
      "Count down from: 24\n",
      "Count down from: 23\n",
      "Count down from: 22\n",
      "Count down from: 21\n",
      "Count down from: 20\n",
      "Count down from: 19\n",
      "Count down from: 18\n",
      "Count down from: 17\n",
      "Count down from: 16\n",
      "Count down from: 15\n",
      "Count down from: 14\n",
      "Count down from: 13\n",
      "Count down from: 12\n",
      "Count down from: 11\n",
      "Count down from: 10\n",
      "Ending at: 9\n"
     ]
    }
   ],
   "source": [
    "// Including the header files \n",
    "#include <iostream> \n",
    "#include <string> \n",
    "\n",
    "// Creating an integer for the for-loop initializer \n",
    "int i = 60; \n",
    "\n",
    "// Creating the for-loop And \n",
    "// Using a DECREMENT OPERATOR  as the update-expression \n",
    "for (i; i > 9; i--)     // i-- ===>> DECREMENT OPERATOR  \n",
    "{\n",
    "    // Executing the block of code if the condition for the for-loop \n",
    "    // Is satified. \n",
    "    std::cout << \"Count down from: \" << i << \"\\n\"; \n",
    "}\n",
    "\n",
    "// Ending \n",
    "std::cout << \"Ending at: \" << i << \"\\n\"; "
   ]
  },
  {
   "cell_type": "code",
   "execution_count": 5,
   "metadata": {},
   "outputs": [
    {
     "name": "stdout",
     "output_type": "stream",
     "text": [
      "The condition for (10 > 11) is: false\n",
      "The condition for (0.5 <= 20) is: true\n"
     ]
    }
   ],
   "source": [
    "// Including the header files \n",
    "#include <iostream> \n",
    "#include <string> \n",
    "#include <vector> \n",
    "\n",
    "// Using namespace \n",
    "using namespace std; \n",
    "\n",
    "// Introducing a statement for bool type conversion \n",
    "cout.setf(ios::boolalpha); \n",
    "\n",
    "\n",
    "// Getting the result for the condition in bool type cast value \n",
    "std::cout << \"The condition for (10 > 11) is: \" << (10 > 11) << std::endl; \n",
    "std::cout << \"The condition for (0.5 <= 20) is: \" << (0.5 <= 20) << std::endl; "
   ]
  },
  {
   "cell_type": "code",
   "execution_count": 6,
   "metadata": {},
   "outputs": [
    {
     "name": "stdout",
     "output_type": "stream",
     "text": [
      "false\n"
     ]
    }
   ],
   "source": [
    "std::cout << (10 > 11) << std::endl; "
   ]
  },
  {
   "cell_type": "code",
   "execution_count": 1,
   "metadata": {},
   "outputs": [
    {
     "name": "stdout",
     "output_type": "stream",
     "text": [
      "0! = 1\n",
      "1! = 1\n",
      "2! = 2\n",
      "3! = 6\n",
      "4! = 24\n",
      "5! = 120\n",
      "6! = 720\n",
      "7! = 5040\n",
      "8! = 40320\n",
      "9! = 362880\n",
      "10! = 3628800\n",
      "11! = 39916800\n",
      "12! = 479001600\n",
      "13! = 6227020800\n",
      "14! = 87178291200\n",
      "15! = 1307674368000\n"
     ]
    }
   ],
   "source": [
    "// Creating factorials \n",
    "#include <iostream> \n",
    "\n",
    "// External declaration of a const int \n",
    "const int ArSize = 16; \n",
    "\n",
    "// \n",
    "long long factorials[ArSize]; \n",
    "\n",
    "// \n",
    "factorials[1] = factorials[0] = 1LL; \n",
    "\n",
    "// Creating a for-loop \n",
    "for (int i = 2; i < ArSize; i++) \n",
    "{\n",
    "    factorials[i] = i * factorials[i - 1]; \n",
    "}\n",
    "\n",
    "// \n",
    "for (int i = 0; i < ArSize; i++) \n",
    "{\n",
    "    std::cout << i << \"! = \" << factorials[i] << std::endl; \n",
    "}"
   ]
  },
  {
   "cell_type": "code",
   "execution_count": 2,
   "metadata": {},
   "outputs": [
    {
     "data": {
      "text/plain": [
       "{ 1, 1, 2, 6, 24, 120, 720, 5040, 40320, 362880, 3628800, 39916800, 479001600, 6227020800, 87178291200, 1307674368000 }"
      ]
     },
     "execution_count": 2,
     "metadata": {},
     "output_type": "execute_result"
    }
   ],
   "source": [
    "factorials"
   ]
  },
  {
   "cell_type": "code",
   "execution_count": 3,
   "metadata": {},
   "outputs": [
    {
     "data": {
      "text/plain": [
       "1"
      ]
     },
     "execution_count": 3,
     "metadata": {},
     "output_type": "execute_result"
    }
   ],
   "source": [
    "1LL"
   ]
  },
  {
   "cell_type": "code",
   "execution_count": 14,
   "metadata": {},
   "outputs": [
    {
     "data": {
      "text/plain": [
       "true"
      ]
     },
     "execution_count": 14,
     "metadata": {},
     "output_type": "execute_result"
    }
   ],
   "source": [
    "#include <iostream> \n",
    "#include <ctime> \n",
    "\n",
    "// Creating a variable \n",
    "float secs = 60; \n",
    "\n",
    "// \n",
    "clock_t delay = secs * CLOCKS_PER_SEC; \n",
    "\n",
    "// \n",
    "clock_t start = clock(); \n",
    "    \n",
    "// \n",
    "clock() - start < delay"
   ]
  },
  {
   "cell_type": "code",
   "execution_count": 19,
   "metadata": {},
   "outputs": [
    {
     "data": {
      "text/plain": [
       "2129813"
      ]
     },
     "execution_count": 19,
     "metadata": {},
     "output_type": "execute_result"
    }
   ],
   "source": [
    "clock() - start "
   ]
  },
  {
   "cell_type": "code",
   "execution_count": 16,
   "metadata": {},
   "outputs": [
    {
     "data": {
      "text/plain": [
       "60000000"
      ]
     },
     "execution_count": 16,
     "metadata": {},
     "output_type": "execute_result"
    }
   ],
   "source": [
    "delay "
   ]
  },
  {
   "cell_type": "markdown",
   "metadata": {},
   "source": [
    "<h2> Creating Type Aliases In C++ </h2> "
   ]
  },
  {
   "cell_type": "code",
   "execution_count": 24,
   "metadata": {},
   "outputs": [],
   "source": [
    "#define DD double  "
   ]
  },
  {
   "cell_type": "code",
   "execution_count": 7,
   "metadata": {},
   "outputs": [],
   "source": [
    "DD vol = 8; "
   ]
  },
  {
   "cell_type": "code",
   "execution_count": 9,
   "metadata": {},
   "outputs": [],
   "source": [
    "// Creating \n",
    "typedef int DD;   // A much better approach for creating data type aliases in C++ "
   ]
  },
  {
   "cell_type": "code",
   "execution_count": 1,
   "metadata": {},
   "outputs": [],
   "source": [
    "bool COND = true; "
   ]
  },
  {
   "cell_type": "code",
   "execution_count": 4,
   "metadata": {},
   "outputs": [
    {
     "name": "stdout",
     "output_type": "stream",
     "text": [
      "True for now on count: 0\n",
      "True for now on count: 1\n",
      "True for now on count: 2\n",
      "True for now on count: 3\n",
      "True for now on count: 4\n",
      "True for now on count: 5\n",
      "True for now on count: 6\n",
      "True for now on count: 7\n",
      "True for now on count: 8\n",
      "True for now on count: 9\n"
     ]
    }
   ],
   "source": [
    "#include <iostream> \n",
    "\n",
    "int count = 0; \n",
    "while ( COND == true )\n",
    "{\n",
    "    // Condition \n",
    "    if ( count == 10 || count == 20 )\n",
    "    {\n",
    "        // Break out of the loop \n",
    "        break; \n",
    "    } \n",
    "    \n",
    "    // Displaying \n",
    "    std::cout << \"True for now on count: \" << count << std::endl; \n",
    "    count++; \n",
    "    \n",
    "}"
   ]
  },
  {
   "cell_type": "code",
   "execution_count": 5,
   "metadata": {},
   "outputs": [],
   "source": [
    "int *ptr_int = new int; "
   ]
  },
  {
   "cell_type": "code",
   "execution_count": 8,
   "metadata": {},
   "outputs": [],
   "source": [
    "*ptr_int = 23; "
   ]
  },
  {
   "cell_type": "code",
   "execution_count": 18,
   "metadata": {},
   "outputs": [
    {
     "data": {
      "text/plain": [
       "1836477548"
      ]
     },
     "execution_count": 18,
     "metadata": {},
     "output_type": "execute_result"
    }
   ],
   "source": [
    "*ptr_int "
   ]
  },
  {
   "cell_type": "code",
   "execution_count": 17,
   "metadata": {},
   "outputs": [
    {
     "data": {
      "text/plain": [
       "@0x7ffc3e168f78"
      ]
     },
     "execution_count": 17,
     "metadata": {},
     "output_type": "execute_result"
    }
   ],
   "source": [
    "ptr_int "
   ]
  },
  {
   "cell_type": "code",
   "execution_count": 13,
   "metadata": {},
   "outputs": [],
   "source": [
    "int numB = 23; \n",
    "\n",
    "int *ptr_int_numB = &numB; "
   ]
  },
  {
   "cell_type": "code",
   "execution_count": 14,
   "metadata": {},
   "outputs": [
    {
     "data": {
      "text/plain": [
       "@0x7ffc3e168f78"
      ]
     },
     "execution_count": 14,
     "metadata": {},
     "output_type": "execute_result"
    }
   ],
   "source": [
    "ptr_int_numB "
   ]
  },
  {
   "cell_type": "code",
   "execution_count": 15,
   "metadata": {},
   "outputs": [
    {
     "data": {
      "text/plain": [
       "23"
      ]
     },
     "execution_count": 15,
     "metadata": {},
     "output_type": "execute_result"
    }
   ],
   "source": [
    "*ptr_int_numB "
   ]
  },
  {
   "cell_type": "code",
   "execution_count": 16,
   "metadata": {},
   "outputs": [],
   "source": [
    "delete ptr_int; "
   ]
  },
  {
   "cell_type": "code",
   "execution_count": 27,
   "metadata": {},
   "outputs": [
    {
     "name": "stdout",
     "output_type": "stream",
     "text": [
      "Hello, this is for count: 0\n",
      "Hello, this is for count: 1\n",
      "Hello, this is for count: 2\n",
      "Hello, this is for count: 3\n",
      "Hello, this is for count: 4\n",
      "Hello, this is for count: 5\n",
      "Hello, this is for count: 6\n",
      "Hello, this is for count: 7\n",
      "Hello, this is for count: 8\n",
      "Hello, this is for count: 9\n",
      "Hello, this is for count: 10\n",
      "Hello, this is for count: 11\n",
      "Hello, this is for count: 12\n",
      "Hello, this is for count: 13\n",
      "Hello, this is for count: 14\n",
      "Hello, this is for count: 15\n",
      "Hello, this is for count: 16\n",
      "Hello, this is for count: 17\n",
      "Hello, this is for count: 18\n",
      "Hello, this is for count: 19\n"
     ]
    }
   ],
   "source": [
    "// Working on while loops \n",
    "bool condition = true; \n",
    "\n",
    "// Including std header files \n",
    "#include <iostream> \n",
    "#include <string> \n",
    "\n",
    "// Creating a variable called count for the while loop \n",
    "int count = 0; \n",
    "\n",
    "while (condition)\n",
    "{\n",
    "    // Just for fun \n",
    "    std::cout << \"Hello, this is for count: \" << count << std::endl; \n",
    "    count++; \n",
    "    \n",
    "    // Creating an if statement to check if the value for i is less than \n",
    "    // or equals 20 \n",
    "    if ( count >= 20 )\n",
    "    {\n",
    "        // Break the loop if the condition is satisfied. \n",
    "        break; \n",
    "    }\n",
    "    \n",
    "    // \n",
    "    else if ( count <= 20)\n",
    "    {\n",
    "        // Continue the loop as far as the value for i is less than \n",
    "        // Or equals 20 \n",
    "        continue; \n",
    "    }\n",
    "}"
   ]
  },
  {
   "cell_type": "markdown",
   "metadata": {},
   "source": [
    "<h2> Freeing Memory With Delete </h2> "
   ]
  },
  {
   "cell_type": "code",
   "execution_count": 2,
   "metadata": {},
   "outputs": [
    {
     "name": "stdout",
     "output_type": "stream",
     "text": [
      "The memory address is: 0x5641f3c82db0\n"
     ]
    }
   ],
   "source": [
    "// Including the header files \n",
    "#include <iostream> \n",
    "#include <string> \n",
    "\n",
    "// Creating a pointer variable \n",
    "double *ptr_double = new double; \n",
    "\n",
    "// Giving it a specific value \n",
    "*ptr_double = 0.423; \n",
    "\n",
    "// Displaying the memory location for the created data object \n",
    "std::cout << \"The memory address is: \" << ptr_double << std::endl; "
   ]
  },
  {
   "cell_type": "code",
   "execution_count": 5,
   "metadata": {},
   "outputs": [
    {
     "name": "stdout",
     "output_type": "stream",
     "text": [
      "Lets see what's inside the empty memory space: 4.68634e-310"
     ]
    }
   ],
   "source": [
    "// Deleting the memory address and freeing up space \n",
    "delete ptr_double;    // N/B: The memory location was deleted here and not the pointer value. \n",
    "\n",
    "// Checking the value after freeing up space \n",
    "std::cout << \"Lets see what's inside the empty memory space: \" << *ptr_double; "
   ]
  },
  {
   "cell_type": "code",
   "execution_count": 6,
   "metadata": {},
   "outputs": [
    {
     "data": {
      "text/plain": [
       "@0x7fff9a53efc8"
      ]
     },
     "execution_count": 6,
     "metadata": {},
     "output_type": "execute_result"
    }
   ],
   "source": [
    "// Accessing that memory address again, and you would notice that the address has \n",
    "// Changed. So the delete operator WORKED !!! \n",
    "ptr_double"
   ]
  },
  {
   "cell_type": "markdown",
   "metadata": {},
   "source": [
    "<h2> Creating Range Based for-loop </h2> "
   ]
  },
  {
   "cell_type": "code",
   "execution_count": 1,
   "metadata": {},
   "outputs": [
    {
     "name": "stdout",
     "output_type": "stream",
     "text": [
      "2.27544e-05\n",
      "3.9672e-10\n",
      "3.13272e-05\n",
      "3.64709e-05\n",
      "3.87144e-05\n",
      "The 1 Element in the array is: Joshua\n",
      "The 2 Element in the array is: Mike\n",
      "The 3 Element in the array is: Steph\n"
     ]
    }
   ],
   "source": [
    "// Including the header files \n",
    "#include <iostream> \n",
    "#include <string> \n",
    "#include <vector> \n",
    "\n",
    "// Creating an array to hold the values of double type \n",
    "double prices[5] = {4.99, 0.87E-4, 6.87, 7.998, 8.49}; \n",
    "\n",
    "// Getting the size of the array \n",
    "const int SIZE = sizeof(prices) / sizeof(prices[0]); \n",
    "\n",
    "// Creating an array type of float \n",
    "float volArray[SIZE]; \n",
    "\n",
    "// Creating the floating point variable to hold the result from \n",
    "// The calculation \n",
    "float volBar; \n",
    "\n",
    "/* Creating a for-loop to loop through the array and perform some \n",
    " calculation on the individual elements, before saving the values into \n",
    " a new array of type cast \"float\" \n",
    " */  \n",
    "\n",
    "// Setting the value for count as zero \n",
    "int count = 0; \n",
    "\n",
    "// Creating the range-based for-loop \n",
    "for ( double x : prices ) \n",
    "{\n",
    "    // Performing the calculation \n",
    "    volBar = float(x) * 0.0456e-4; \n",
    "    \n",
    "    // Saving the value for the volBar into the volArray \n",
    "    volArray[count] = volBar; \n",
    "    \n",
    "    // Incrementing the value for count by one \n",
    "    count ++; \n",
    "    \n",
    "}\n",
    "\n",
    "// Displaying all the new elements inside the volArray \n",
    "std::cout << volArray[0] << \"\\n\" \n",
    "          << volArray[1] << \"\\n\" \n",
    "          << volArray[2] << \"\\n\"\n",
    "          << volArray[3] << \"\\n\"\n",
    "          << volArray[4] << \"\\n\"; \n",
    "\n",
    "// Working with vectors \n",
    "std::vector <std::string> NAMES = {\"Joshua\", \"Mike\", \"Steph\"}; \n",
    "\n",
    "// Getting the size of the array \n",
    "// const int VECTOR_ARRAY = NAMES.size() \n",
    "// Setting the count \n",
    "count = 0; \n",
    "\n",
    "// Using the range base value to extract the informaion from the string \n",
    "// array. \n",
    "for ( std::string names : NAMES ) \n",
    "{\n",
    "    // Displaying the names \n",
    "    std::cout << \"The \" << count + 1 << \" Element in the array is: \" << names << std::endl; \n",
    "    \n",
    "    // Incrementing the count by one \n",
    "    count ++; \n",
    "}"
   ]
  },
  {
   "cell_type": "code",
   "execution_count": 1,
   "metadata": {},
   "outputs": [],
   "source": [
    "// Including the header files \n",
    "#include <iostream> \n",
    "#include <string> \n",
    "#include <vector> "
   ]
  },
  {
   "cell_type": "code",
   "execution_count": 2,
   "metadata": {},
   "outputs": [],
   "source": [
    "// Creating a two-dimensional array of data type int, char, string, and double \n",
    "int maxtemp[4][5] = {                // 4 items with each item to have 5 values inside it's list. \n",
    "    {96, 100, 87, 101, 103}, \n",
    "    {96, 98, 91, 107, 104}, \n",
    "    {97, 101, 93, 108, 107}, \n",
    "    {98, 103, 95, 109, 108}\n",
    "    \n",
    "}; \n",
    "\n",
    "// Creating a two dimensional array of data type double \n",
    "double maxVolume[4][4] = {\n",
    "    {10.98, 0.87, 0.875, 0.009}, \n",
    "    {9.087e-3, 0.98e-3, 0.87e-5, 0.098}, \n",
    "    {0.545, 0.8754, 0.987, 0.988}, \n",
    "    {101.23, 102.34, 106.56, 122.897}\n",
    "    \n",
    "}; \n",
    "\n",
    "// Creating a two dimensional array of string data type \n",
    "std::string names[4][4] = {\n",
    "    {\"Jane\", \"Noah\", \"Stan\", \"Mike\"}, \n",
    "    {\"Josh\", \"Icke\", \"David\", \"Danny\"}, \n",
    "    {\"Matthew\", \"Sophie\", \"Joshua\", \"Pauline\"}, \n",
    "    {\"Jenny\", \"Max\", \"Ford\", \"Grande\"}\n",
    "    \n",
    "}; "
   ]
  },
  {
   "cell_type": "code",
   "execution_count": 5,
   "metadata": {},
   "outputs": [
    {
     "name": "stdout",
     "output_type": "stream",
     "text": [
      "Jane\n",
      "Jane\tNoah\tStan\tMike\tJosh\n",
      "Josh\tIcke\tDavid\tDanny\tMatthew\n",
      "Matthew\tSophie\tJoshua\tPauline\tJenny\n",
      "Jenny\tMax\tFord\tGrande\t"
     ]
    }
   ],
   "source": [
    "// Stating the size of the array \n",
    "const int SIZE = 4; \n",
    "\n",
    "// Extracting data from the two dimensional array \n",
    "for ( int i = 0; i < SIZE; i++) \n",
    "{\n",
    "    /std::cout << names[i][0] << \"\\n\"; \n",
    "    // \n",
    "    for (int j = 0; j < SIZE; j++) \n",
    "    {\n",
    "        std::cout << names[i][j] << \"\\t\"; \n",
    "    }\n",
    "}"
   ]
  },
  {
   "cell_type": "code",
   "execution_count": 71,
   "metadata": {},
   "outputs": [
    {
     "data": {
      "text/plain": [
       "0.099775260"
      ]
     },
     "execution_count": 71,
     "metadata": {},
     "output_type": "execute_result"
    }
   ],
   "source": [
    "maxVolume[0][0] * maxVolume[1][0] "
   ]
  },
  {
   "cell_type": "code",
   "execution_count": 72,
   "metadata": {},
   "outputs": [],
   "source": [
    "int maxInt[2][2][3]; "
   ]
  },
  {
   "cell_type": "code",
   "execution_count": 73,
   "metadata": {},
   "outputs": [
    {
     "data": {
      "text/plain": [
       "{ { { 0, 0, 0 }, { 0, 0, 0 } }, { { 0, 0, 0 }, { 0, 0, 0 } } }"
      ]
     },
     "execution_count": 73,
     "metadata": {},
     "output_type": "execute_result"
    }
   ],
   "source": [
    "maxInt"
   ]
  },
  {
   "cell_type": "code",
   "execution_count": 74,
   "metadata": {},
   "outputs": [],
   "source": [
    "int maxInt[2][2][3]= {\n",
    "    {{1, 2, 3}, {2, 3, 4}}, \n",
    "    {{10, 20, 90}, {10, 30, 58}} \n",
    "}"
   ]
  },
  {
   "cell_type": "code",
   "execution_count": null,
   "metadata": {},
   "outputs": [],
   "source": [
    "names[i]"
   ]
  },
  {
   "cell_type": "markdown",
   "metadata": {},
   "source": [
    "<h3> Logical Operators </h3> "
   ]
  },
  {
   "cell_type": "code",
   "execution_count": 6,
   "metadata": {},
   "outputs": [
    {
     "name": "stdout",
     "output_type": "stream",
     "text": [
      "This program may reformat your hard disk\n",
      "and destroy all your data. \n",
      "Do you wish to continue?  <y/n> "
     ]
    },
    {
     "name": "stdin",
     "output_type": "stream",
     "text": [
      " n\n"
     ]
    },
    {
     "name": "stdout",
     "output_type": "stream",
     "text": [
      "A wise choice.... bye\n"
     ]
    }
   ],
   "source": [
    "// Including the header files \n",
    "#include <iostream> \n",
    "#include <string> \n",
    "\n",
    "// Using namespace std; \n",
    "using namespace std; \n",
    "\n",
    "// Displaying a message \n",
    "cout << \"This program may reformat your hard disk\\n\" \n",
    "        \"and destroy all your data. \\n\" \n",
    "        \"Do you wish to continue?  <y/n> \"; \n",
    "\n",
    "// Creating a variable to hold the user's input \n",
    "char ch; \n",
    "\n",
    "// Saving the user input into the variable \n",
    "cin >> ch; \n",
    "\n",
    "// Making an if/else block statement \n",
    "if ( ch == 'y' || ch == 'Y' )\n",
    "{\n",
    "    // Execute the code below if the statement was met \n",
    "    cout << \"You were warned! \\a\\a\\n\"; \n",
    "}\n",
    "\n",
    "// Else if block \n",
    "else if ( ch == 'n' || ch == 'N' )\n",
    "{\n",
    "    // Execute the code below if the statement was met \n",
    "    cout << \"A wise choice.... bye\\n\"; \n",
    "    \n",
    "}\n",
    "\n",
    "// Just Else block \n",
    "else \n",
    "{\n",
    "    // Execute the code below if the statement was met \n",
    "    cout << \"That wasn't a 'y' or 'n'. Apparently you \\n\" \n",
    "            \"Can't follow instructions, so \" \n",
    "            \"I'll trash your disk anyway. \\a\\a\\a\\n\"; \n",
    "}"
   ]
  },
  {
   "cell_type": "code",
   "execution_count": 4,
   "metadata": {},
   "outputs": [
    {
     "name": "stdout",
     "output_type": "stream",
     "text": [
      "AND \n"
     ]
    }
   ],
   "source": [
    "// Including the header files \n",
    "#include <iostream> \n",
    "#include <string> \n",
    "\n",
    "// Creating a variable \n",
    "int AgeValue = 25; \n",
    "\n",
    "// Using logical-operators \n",
    "if ( AgeValue == 25 and AgeValue == 26 )\n",
    "{\n",
    "    // Executing the block of code below if the condition above was satified \n",
    "    std::cout << \"The age value is within 25 and 26 \\n\"; \n",
    "}\n",
    "\n",
    "// Nothing was executed for AND \n",
    "std::cout << \"AND \\n\"; "
   ]
  },
  {
   "cell_type": "code",
   "execution_count": 6,
   "metadata": {},
   "outputs": [
    {
     "data": {
      "text/plain": [
       "10"
      ]
     },
     "execution_count": 6,
     "metadata": {},
     "output_type": "execute_result"
    }
   ],
   "source": [
    "// Testing out the ?: - operator \n",
    "5 > 3 ? 10 : 12 "
   ]
  },
  {
   "cell_type": "code",
   "execution_count": 7,
   "metadata": {},
   "outputs": [
    {
     "data": {
      "text/plain": [
       "40"
      ]
     },
     "execution_count": 7,
     "metadata": {},
     "output_type": "execute_result"
    }
   ],
   "source": [
    "int a = 40; \n",
    "int b = 20; \n",
    "\n",
    "int c = a > b ? a : b; \n",
    "\n",
    "c "
   ]
  },
  {
   "cell_type": "code",
   "execution_count": 3,
   "metadata": {},
   "outputs": [],
   "source": [
    "#include <iostream> \n",
    "#include <string> \n",
    "\n",
    "// Creating a universal constant variable \n",
    "const double kpr = 0.123E-10; "
   ]
  },
  {
   "cell_type": "code",
   "execution_count": 11,
   "metadata": {},
   "outputs": [
    {
     "data": {
      "text/plain": [
       "true"
      ]
     },
     "execution_count": 11,
     "metadata": {},
     "output_type": "execute_result"
    }
   ],
   "source": [
    "20 != 10 \n"
   ]
  },
  {
   "cell_type": "code",
   "execution_count": 14,
   "metadata": {},
   "outputs": [
    {
     "data": {
      "text/plain": [
       "false"
      ]
     },
     "execution_count": 14,
     "metadata": {},
     "output_type": "execute_result"
    }
   ],
   "source": [
    "(6 < 3) ? true : false "
   ]
  },
  {
   "cell_type": "markdown",
   "metadata": {},
   "source": [
    "<h2> Using the <b>fstream</b> to write files to disk </h2> "
   ]
  },
  {
   "cell_type": "code",
   "execution_count": 2,
   "metadata": {},
   "outputs": [],
   "source": [
    "// Including the header files \n",
    "#include <iostream> \n",
    "#include <fstream> \n",
    "\n",
    "// Using namespace directives \n",
    "using namespace std; \n",
    "\n",
    "// Creating variables of different data objects \n",
    "int year; \n",
    "double a_price; \n",
    "double d_price; \n",
    "\n",
    "// Creating the f_stream class for loading in files \n",
    "ofstream outFile; \n",
    "\n",
    "// loading the file into memory as a write-byte file \n",
    "outFile.open(\"file.txt\"); \n",
    "\n",
    "// Saving documents into the file \n",
    "outFile << \"Name: \" << \"Mbonu Chinedu\" << endl; \n",
    "outFile << \"Age: \" << \"25\" << endl; \n",
    "outFile << \"Location: \" << \"Nigeria\" << endl; \n",
    "outFile << \"Skill: \" << \"Software Engineer\" << endl; \n",
    "\n",
    "// Closing the file \n",
    "outFile.close(); "
   ]
  },
  {
   "cell_type": "markdown",
   "metadata": {},
   "source": [
    "<h2> Using the <b>fstream </b> to read from a file on disk </h2> "
   ]
  },
  {
   "cell_type": "code",
   "execution_count": 1,
   "metadata": {},
   "outputs": [
    {
     "name": "stdout",
     "output_type": "stream",
     "text": [
      "Name: Mbonu Chinedu\n",
      "The bool type is: 1\n",
      "Age: 25\n",
      "The bool type is: 1\n",
      "Location: Nigeria\n",
      "The bool type is: 1\n",
      "Skill: Software Engineer\n",
      "The bool type is: 1\n",
      "\n",
      "The bool type is: 0\n"
     ]
    }
   ],
   "source": [
    "// Including the header files \n",
    "#include <iostream> \n",
    "#include <fstream> \n",
    "#include <string> \n",
    "\n",
    "// Using namespace std \n",
    "using namespace std; \n",
    "\n",
    "// Creating the ifstream class \n",
    "ifstream inFile; \n",
    "\n",
    "// Creaging an empty variable of data type string \n",
    "std::string line; \n",
    "\n",
    "// Setting the path for the file name \n",
    "std::string filename = \"file.txt\"; \n",
    "\n",
    "// Opening the file located on the disk \n",
    "inFile.open(filename); \n",
    "\n",
    "// Reading from the line after line by using a while loop \n",
    "while ( inFile ) \n",
    "{\n",
    "    // Getting each data from each line and saving it into the \n",
    "    // Line variable called \"line\" \n",
    "    getline(inFile, line); \n",
    "    \n",
    "    // Displaying each saved line \n",
    "    std::cout << line << std::endl; \n",
    "    \n",
    "    // Checking the boolean value type for the \"inFile\"  \n",
    "    std::cout << \"The bool type is: \" << bool(inFile) << std::endl; \n",
    "    \n",
    "}"
   ]
  },
  {
   "cell_type": "code",
   "execution_count": 2,
   "metadata": {},
   "outputs": [
    {
     "name": "stdout",
     "output_type": "stream",
     "text": [
      "Name: Mbonu Chinedu\n",
      "Age: 25\n",
      "Location: Nigeria\n",
      "Skill: Software Engineer\n",
      "\n"
     ]
    }
   ],
   "source": [
    "/* Using  another standard for the while loop */ \n",
    "// Including the header files \n",
    "#include <iostream> \n",
    "#include <fstream> \n",
    "#include <string> \n",
    "\n",
    "// Using the standard namespce std \n",
    "using namespace std; \n",
    "\n",
    "// Creating the ifstream class \n",
    "ifstream inFile; \n",
    "\n",
    "// Creating an empty variable of data type string \n",
    "std::string loaded_data; \n",
    "\n",
    "// Getting the path to the file for loading \n",
    "std::string filename = \"file.txt\"; \n",
    "\n",
    "// Opening the file \n",
    "inFile.open(filename); \n",
    "\n",
    "// Setting a boolean value to start the loop \n",
    "bool COND = true; \n",
    "\n",
    "// Reading from the file , line by line \n",
    "while ( COND ) \n",
    "{\n",
    "    // Getting each data from each line and saving it into the \n",
    "    // line variable called the line. \n",
    "    getline(inFile, loaded_data); \n",
    "    \n",
    "    // Checking the if/else statement for the condition \n",
    "    if ( COND == true ) \n",
    "    {\n",
    "        // Execute this block of code if the condition is satified \n",
    "        std::cout << loaded_data << std::endl; \n",
    "        \n",
    "        // Setting the condition for the inFIle value \n",
    "        COND = bool(inFile); \n",
    "        \n",
    "    }\n",
    "    \n",
    "    // Continue on the loop \n",
    "    continue; \n",
    "}"
   ]
  },
  {
   "cell_type": "code",
   "execution_count": 5,
   "metadata": {},
   "outputs": [
    {
     "data": {
      "text/plain": [
       "false"
      ]
     },
     "execution_count": 5,
     "metadata": {},
     "output_type": "execute_result"
    }
   ],
   "source": [
    "bool(0)"
   ]
  },
  {
   "cell_type": "code",
   "execution_count": 4,
   "metadata": {},
   "outputs": [
    {
     "data": {
      "text/plain": [
       "@0x7fdb4641a028"
      ]
     },
     "execution_count": 4,
     "metadata": {},
     "output_type": "execute_result"
    }
   ],
   "source": [
    "inFile"
   ]
  },
  {
   "cell_type": "markdown",
   "metadata": {},
   "source": [
    "<h2> Functions In C++ </h2> "
   ]
  },
  {
   "cell_type": "code",
   "execution_count": 5,
   "metadata": {},
   "outputs": [],
   "source": [
    "void simple(); "
   ]
  },
  {
   "cell_type": "code",
   "execution_count": 6,
   "metadata": {
    "collapsed": true,
    "jupyter": {
     "outputs_hidden": true
    }
   },
   "outputs": [
    {
     "name": "stderr",
     "output_type": "stream",
     "text": [
      "\u001b[1minput_line_20:6:1: \u001b[0m\u001b[0;1;31merror: \u001b[0m\u001b[1mfunction definition is not allowed here\u001b[0m\n",
      "{\n",
      "\u001b[0;1;32m^\n",
      "\u001b[0m\u001b[1minput_line_20:13:1: \u001b[0m\u001b[0;1;31merror: \u001b[0m\u001b[1muse of undeclared identifier 'simple'\u001b[0m\n",
      "simple(); \n",
      "\u001b[0;1;32m^\n",
      "\u001b[0m"
     ]
    },
    {
     "ename": "Interpreter Error",
     "evalue": "",
     "output_type": "error",
     "traceback": [
      "Interpreter Error: "
     ]
    }
   ],
   "source": [
    "// Including the header files \n",
    "#include <iostream> \n",
    "#include <string> \n",
    "\n",
    "// Using the standard namespace lib \n",
    "using namespace std; \n",
    "\n",
    "// function definition \n",
    "void simple() \n",
    "{\n",
    "    // \n",
    "    cout << \"I'm but a simple function. \\n\"; \n",
    "}\n",
    "\n",
    "// Running the main program \n",
    "cout << \"main() will call the simple() function. \\n\"; \n",
    "\n",
    "// Making the function call \n",
    "simple(); \n"
   ]
  },
  {
   "cell_type": "markdown",
   "metadata": {},
   "source": [
    "<h3> Defining a Function </h3> \n",
    "\n",
    "<p> You can group functions into two categories: those that don't have return values and <br> those that do. Functions without return values are termed type void functions and have the following general form; <br> </p>  <br> \n",
    "\n",
    "<p> \n",
    "void functionName(parameterList) <br> \n",
    "    { <br> \n",
    "    &emsp; <i> statement (s)   <br> \n",
    "        &emsp; return;   &emsp; &emsp; // optional  </i> <br> \n",
    "    } \n",
    "    \n",
    "</p> \n",
    "\n",
    "<p> \n",
    "typeName functionName (parameterList) <br> \n",
    "{ <br> \n",
    "\n",
    "&emsp; <i> statemets  <br> \n",
    "&emsp; return value;    &emsp; &emsp; // Value is type cast to type typeName </i> <br> \n",
    "} \n",
    "\n",
    "</p> "
   ]
  },
  {
   "cell_type": "code",
   "execution_count": 2,
   "metadata": {},
   "outputs": [],
   "source": [
    "// Creating a simple vector \n",
    "#include <iostream> \n",
    "#include <vector> \n",
    "#include <string> \n",
    "#include <cmath> \n",
    "\n",
    "\n",
    "// using the standard namespace lib \n",
    "using namespace std; \n",
    "\n",
    "// Creating a vector \n",
    "vector <double> vec_array; "
   ]
  },
  {
   "cell_type": "code",
   "execution_count": 6,
   "metadata": {},
   "outputs": [],
   "source": [
    "// Creating the sum function \n",
    "int sum(int array[][4], int ArSize) \n",
    "{\n",
    "    // Creating a variable called total \n",
    "    int total = 0; \n",
    "    \n",
    "    // Creating for loop to loop through the array and extract the \n",
    "    // values in it \n",
    "    for (int r = 0; r < ArSize; r++) \n",
    "        for (int c = 0; c < 4; c++)\n",
    "                total += array[r][c]; \n",
    "    \n",
    "    // Returning the total \n",
    "    return total; \n",
    "    \n",
    "}\n"
   ]
  },
  {
   "cell_type": "code",
   "execution_count": 7,
   "metadata": {},
   "outputs": [],
   "source": [
    "int data[3][4] = {{1, 2, 3, 4}, {9, 8, 7, 6}, {2, 4, 6, 8}}; \n",
    "int total = sum(data, 3); "
   ]
  },
  {
   "cell_type": "code",
   "execution_count": 8,
   "metadata": {},
   "outputs": [
    {
     "name": "stdout",
     "output_type": "stream",
     "text": [
      "60\n"
     ]
    }
   ],
   "source": [
    "cout << total << std::endl; "
   ]
  },
  {
   "cell_type": "code",
   "execution_count": null,
   "metadata": {},
   "outputs": [],
   "source": []
  }
 ],
 "metadata": {
  "kernelspec": {
   "display_name": "C++11",
   "language": "C++11",
   "name": "xcpp11"
  },
  "language_info": {
   "codemirror_mode": "text/x-c++src",
   "file_extension": ".cpp",
   "mimetype": "text/x-c++src",
   "name": "c++",
   "version": "11"
  }
 },
 "nbformat": 4,
 "nbformat_minor": 4
}
