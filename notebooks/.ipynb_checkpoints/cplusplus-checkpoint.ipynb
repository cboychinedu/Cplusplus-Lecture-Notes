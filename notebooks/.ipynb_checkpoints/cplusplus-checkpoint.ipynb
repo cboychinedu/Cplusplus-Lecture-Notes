{
 "cells": [
  {
   "cell_type": "code",
   "execution_count": 1,
   "metadata": {},
   "outputs": [
    {
     "name": "stdout",
     "output_type": "stream",
     "text": [
      "Some output \n"
     ]
    }
   ],
   "source": [
    "// Including the header file \n",
    "#include <iostream> \n",
    "#include <string> \n",
    "\n",
    "// Displaying some output \n",
    "std::cout << \"Some output \" << std::endl; "
   ]
  },
  {
   "cell_type": "code",
   "execution_count": 2,
   "metadata": {},
   "outputs": [],
   "source": [
    "// ?std::vector\n",
    "// ?std::string"
   ]
  },
  {
   "cell_type": "markdown",
   "metadata": {},
   "source": [
    "<h2> The String Class in C++ </h2> \n",
    "\n",
    "<p> The standard <b> C++ </b> library provides a <b>string</b> class type that supports all the operations <br> mentioned \n",
    "above, additionally much more functionality. </p> "
   ]
  },
  {
   "cell_type": "code",
   "execution_count": 3,
   "metadata": {},
   "outputs": [
    {
     "name": "stdout",
     "output_type": "stream",
     "text": [
      "Second output \n"
     ]
    }
   ],
   "source": [
    "// Displaying some output \n",
    "std::cout << \"Second output \" << std::endl; \n",
    "std::string AgeName = \"Kelvin\"; "
   ]
  },
  {
   "cell_type": "code",
   "execution_count": 4,
   "metadata": {},
   "outputs": [
    {
     "name": "stdout",
     "output_type": "stream",
     "text": [
      "hello world.\n",
      "6\n"
     ]
    }
   ],
   "source": [
    "// Including the header files \n",
    "#include <iostream> \n",
    "#include <string> \n",
    "\n",
    "// Creating the string variable \n",
    "std::string str1 = \"hello\"; \n",
    "std::string str2 = \"world.\"; \n",
    "std::string str3; \n",
    "\n",
    "// Concatenating both strings \n",
    "std::cout << str1 << \" \" << str2 << std::endl; \n",
    "\n",
    "// Getting the length of the strings \n",
    "int len = str2.size();  \n",
    "\n",
    "// Displaying the length \n",
    "std::cout << len << std::endl; "
   ]
  },
  {
   "cell_type": "code",
   "execution_count": 6,
   "metadata": {},
   "outputs": [
    {
     "name": "stdout",
     "output_type": "stream",
     "text": [
      "6\n"
     ]
    }
   ],
   "source": [
    "std::cout << len << std::endl; "
   ]
  },
  {
   "cell_type": "code",
   "execution_count": 5,
   "metadata": {},
   "outputs": [],
   "source": [
    "// The following are the minimum number of significant digits \n",
    "#define DBL_DIG 15  // double \n",
    "#define FLT_DIG 6   // float \n",
    "#define LDBL_DIG 18    // long double \n",
    "\n",
    "// The following are number of bits used to represent the mantissa  \n",
    "#define DBL_MANT_DIG 53   \n",
    "#define FLT_MANT_DIG 24  \n",
    "#define LDBL_MANT_DIG 64  \n",
    "\n",
    "// The following are the maximnu and minimim exponent values \n",
    "#define DBL_MAX_10_EXP  +308 \n",
    "#define FLT_MAX_10_EXP  +38 \n",
    "#define LDBL_MAX_10_EXP  +4932 \n",
    "\n",
    "#define DBL_MIN_10_EXP   -307 \n",
    "#define FLT_MIN_10_EXP   -37 \n",
    "#define LDBL_MIN_10_EXP   -4931  "
   ]
  },
  {
   "cell_type": "code",
   "execution_count": 6,
   "metadata": {},
   "outputs": [
    {
     "name": "stdout",
     "output_type": "stream",
     "text": [
      "15\n"
     ]
    }
   ],
   "source": [
    "std::cout << DBL_DIG << std::endl; "
   ]
  },
  {
   "cell_type": "markdown",
   "metadata": {},
   "source": [
    "<h3> FLOATING POINT TYPES  </h3> "
   ]
  },
  {
   "cell_type": "code",
   "execution_count": 17,
   "metadata": {},
   "outputs": [
    {
     "name": "stdout",
     "output_type": "stream",
     "text": [
      "tub = 3.33333, a million tubs = 3.33333e+06\n",
      "3.33333e+07\n",
      "mint = 3.33333 and a million mints = "
     ]
    }
   ],
   "source": [
    "// Including the header file \n",
    "#include <iostream> \n",
    "#include <string> \n",
    "\n",
    "\n",
    "// Creating a floating-point variable \n",
    "float tub = 10.0 / 3.0; \n",
    "double mint = 10.0 / 3.0;    // Best floating-point type out there..............\n",
    "\n",
    "// Creating a constant value \n",
    "const float million = 1.0E6; \n",
    "\n",
    "// Displaying the values \n",
    "std::cout << \"tub = \" << tub; \n",
    "std::cout << \", a million tubs = \" << million * tub << std::endl; \n",
    "std::cout << 10 * million * tub << std::endl; \n",
    "\n",
    "// Second display using cout \n",
    "std::cout << \"mint = \" << mint << \" and a million mints = \"; "
   ]
  },
  {
   "cell_type": "code",
   "execution_count": 44,
   "metadata": {},
   "outputs": [],
   "source": [
    "/* \n",
    "* Y = mx + c \n",
    "*/ \n",
    "float y, m, x; \n",
    "\n",
    "// Assigning the value for m \n",
    "m = 30.4f; \n",
    "x = 22.31f;\n",
    "\n",
    "// Assigning value for the intercept \"c\" \n",
    "float c = -12; \n",
    "\n",
    "// Getting y \n",
    "y = (m * x) + c; "
   ]
  },
  {
   "cell_type": "code",
   "execution_count": 46,
   "metadata": {},
   "outputs": [
    {
     "name": "stdout",
     "output_type": "stream",
     "text": [
      "The value for y is: 666.224cm\n"
     ]
    }
   ],
   "source": [
    "// Displaying the answer \n",
    "std::cout << \"The value for y is: \" << y << \"cm\" << std::endl; "
   ]
  },
  {
   "cell_type": "markdown",
   "metadata": {},
   "source": [
    "<h3> Perfroming some simple arithemetic operations </h3> "
   ]
  },
  {
   "cell_type": "code",
   "execution_count": 1,
   "metadata": {},
   "outputs": [
    {
     "name": "stdout",
     "output_type": "stream",
     "text": [
      "Enter a number: "
     ]
    },
    {
     "name": "stdin",
     "output_type": "stream",
     "text": [
      " 2.3\n"
     ]
    },
    {
     "name": "stdout",
     "output_type": "stream",
     "text": [
      "Enter another number: "
     ]
    },
    {
     "name": "stdin",
     "output_type": "stream",
     "text": [
      " 43.9\n"
     ]
    },
    {
     "name": "stdout",
     "output_type": "stream",
     "text": [
      "hats = 2.300000; heads = 43.900002\n",
      "hats + heads = 46.200001\n",
      "hats - heads = -41.600002\n",
      "hats * heads = 100.970001\n",
      "hats / heads = 0.052392\n"
     ]
    }
   ],
   "source": [
    "// Including the header files \n",
    "#include <iostream> \n",
    "#include <string> \n",
    "\n",
    "// Using the standard namespace lib \n",
    "using namespace std; \n",
    "\n",
    "// Defining a floating-point variable \n",
    "float hats, heads; \n",
    "\n",
    "// Setting the floating-point precision to fixed-point \n",
    "cout.setf(ios_base::fixed, ios_base::floatfield);    // fixed-point \n",
    "\n",
    "// Taking in the user's input \n",
    "cout << \"Enter a number: \"; \n",
    "cin >> hats; \n",
    "\n",
    "// Taking in another number \n",
    "cout << \"Enter another number: \"; \n",
    "cin >> heads; \n",
    "\n",
    "// Displaying the user's input values \n",
    "cout << \"hats = \" << hats << \"; heads = \" << heads << endl; \n",
    "cout << \"hats + heads = \" << hats + heads << endl;\n",
    "cout << \"hats - heads = \" << hats - heads << endl; \n",
    "cout << \"hats * heads = \" << hats * heads << endl; \n",
    "cout << \"hats / heads = \" << hats / heads << endl; "
   ]
  },
  {
   "cell_type": "code",
   "execution_count": 3,
   "metadata": {},
   "outputs": [
    {
     "name": "stdout",
     "output_type": "stream",
     "text": [
      "What is your age: "
     ]
    },
    {
     "name": "stdin",
     "output_type": "stream",
     "text": [
      " 23\n"
     ]
    },
    {
     "name": "stdout",
     "output_type": "stream",
     "text": [
      "Your age is: 23\n"
     ]
    }
   ],
   "source": [
    "// Including the header file \n",
    "#include <iostream> \n",
    "#include <string> \n",
    "\n",
    "int age; \n",
    "\n",
    "std::cout << \"What is your age: \"; \n",
    "std::cin >> age; \n",
    "\n",
    "// \n",
    "std::cout << \"Your age is: \" << age << std::endl; "
   ]
  },
  {
   "cell_type": "markdown",
   "metadata": {},
   "source": [
    "<h3> Working With Booleans </h3> "
   ]
  },
  {
   "cell_type": "code",
   "execution_count": 2,
   "metadata": {},
   "outputs": [],
   "source": [
    "// using the normal statement \n",
    "bool CONDITION = false; \n",
    "\n",
    "// using curly braces \n",
    "bool COND = {true}; \n",
    "\n",
    "// third statement c++11 \n",
    "bool COND1 {false}; "
   ]
  },
  {
   "cell_type": "code",
   "execution_count": 1,
   "metadata": {},
   "outputs": [
    {
     "name": "stderr",
     "output_type": "stream",
     "text": [
      "\u001b[1minput_line_7:3:21: \u001b[0m\u001b[0;1;35mwarning: \u001b[0m\u001b[1mimplicit conversion from 'float' to 'bool' changes value from -9.9800003E-5 to true\n",
      "      [-Wliteral-conversion]\u001b[0m\n",
      "bool decimalValue = -0.998E-4f;  \n",
      "\u001b[0;1;32m     ~~~~~~~~~~~~   ^~~~~~~~~~\n",
      "\u001b[0m"
     ]
    },
    {
     "data": {
      "text/plain": [
       "true"
      ]
     },
     "execution_count": 1,
     "metadata": {},
     "output_type": "execute_result"
    }
   ],
   "source": [
    "// Working with numbers as booleans \n",
    "bool decimalValue = -0.998E-4f;  \n",
    "\n",
    "decimalValue"
   ]
  },
  {
   "cell_type": "code",
   "execution_count": 21,
   "metadata": {},
   "outputs": [
    {
     "name": "stdout",
     "output_type": "stream",
     "text": [
      "Conditon is false \n",
      "COND1 is false"
     ]
    }
   ],
   "source": [
    "if (CONDITION) \n",
    "{\n",
    "    std::cout << \"Condition is true \\n\"; \n",
    "}\n",
    "\n",
    "else if (CONDITION == false) \n",
    "{\n",
    "    std::cout << \"Conditon is false \\n\"; \n",
    "}\n",
    "\n",
    "// Third statement \n",
    "if (COND1 == false) \n",
    "{\n",
    "    std::cout << \"COND1 is false\"; \n",
    "}"
   ]
  },
  {
   "cell_type": "code",
   "execution_count": 12,
   "metadata": {},
   "outputs": [
    {
     "name": "stdout",
     "output_type": "stream",
     "text": [
      "COND is true"
     ]
    }
   ],
   "source": [
    "if (COND == true) \n",
    "{\n",
    "    std::cout << \"COND is true\"; \n",
    "}\n",
    "\n",
    "else \n",
    "{\n",
    "    std::cout << \"COND is false\"; \n",
    "}"
   ]
  },
  {
   "cell_type": "markdown",
   "metadata": {},
   "source": [
    "<h3> Calculation Of The Force Of Gravity </h3> "
   ]
  },
  {
   "cell_type": "code",
   "execution_count": 3,
   "metadata": {},
   "outputs": [
    {
     "name": "stdout",
     "output_type": "stream",
     "text": [
      "The Calculated force is: 1.16656e+18\n"
     ]
    }
   ],
   "source": [
    "// Including the header files \n",
    "#include <iostream> \n",
    "#include <string> \n",
    "#include <cmath> \n",
    "\n",
    "/*\n",
    "* Force(F) = G * (m1*m2)/R^2  \n",
    "* F = The magnitude of the force between the objects. \n",
    "* Where by G = Gravitational Constant ==> 6.67E-11(m3s^-2kg^-1)\n",
    "* Where by m1, and m2 = first, and second mass of the objects. \n",
    "* Where by R^2 = the square of the distance between the two masses. \n",
    "*/ \n",
    "\n",
    "// Definition of a function for calculating the force of gravity  \n",
    "double gravational_force(double m1, double m2, double radius)\n",
    "{\n",
    "    // Creating a variable for the force \n",
    "    double force; \n",
    "    \n",
    "    // Squaring the radius by two \n",
    "    double rad_pow = pow(radius, 2); \n",
    "    \n",
    "    // Creating a const variable for the Gravitational constant \n",
    "    const double G = 6.67E-11; \n",
    "    \n",
    "    // Calculating the force \n",
    "    force = G * (m1 * m2)/rad_pow; \n",
    "    \n",
    "    // Returning the result \n",
    "    return force; \n",
    "}\n",
    "\n",
    "// Stating the values for the two masses m1, and m2. \n",
    "double mass1 = 6.0E24; \n",
    "double mass2 = 4.9E24; \n",
    "\n",
    "// Stating the distance between the two bodies. \n",
    "double distance = 4.1E10; \n",
    "\n",
    "// Performing the calculation \n",
    "double CalculatedForce; \n",
    "CalculatedForce = gravational_force(mass1, mass2, distance); \n",
    "\n",
    "// Displaying the result \n",
    "std::cout << \"The Calculated force is: \" << CalculatedForce << std::endl; "
   ]
  },
  {
   "cell_type": "code",
   "execution_count": 10,
   "metadata": {},
   "outputs": [
    {
     "name": "stdout",
     "output_type": "stream",
     "text": [
      "The Calculated force is: 4.002e-11\n"
     ]
    }
   ],
   "source": [
    "// Assigning the value for Kg to 1 \n",
    "const char Kg = 1; \n",
    "\n",
    "// Stating the values for the two masses m1, and m2. \n",
    "double mass1 = 300; \n",
    "double mass2 = 20; \n",
    "\n",
    "// Stating the distance between the two bodies. \n",
    "double distance = 100; \n",
    "\n",
    "// Performing the calculation \n",
    "double CalculatedGravationalForce; \n",
    "CalculatedGravationalForce = gravational_force(mass1, mass2, distance); \n",
    "\n",
    "// Displaying the result \n",
    "std::cout << \"The Calculated force is: \" << CalculatedGravationalForce << std::endl; "
   ]
  },
  {
   "cell_type": "markdown",
   "metadata": {},
   "source": [
    "<h3> Calculation Of Elecromagnetic Force </h3> <br> \n",
    "\n",
    "<p> The force of attraction (or repulsion) of two particles can be calculated using <b> Coulomb's law. </b> </p> "
   ]
  },
  {
   "cell_type": "code",
   "execution_count": 2,
   "metadata": {},
   "outputs": [
    {
     "name": "stdout",
     "output_type": "stream",
     "text": [
      "The Calculated Electromagnetic force is: 3.20404e+43\n"
     ]
    }
   ],
   "source": [
    "// Including the header files \n",
    "#include <iostream> \n",
    "#include <string> \n",
    "\n",
    "/* \n",
    "* Force(F) = K * (Qa * Qb)/ R^2\n",
    "* \n",
    "*/ \n",
    "\n",
    "// Definition of a function for calculating the electromagnetic force \n",
    "double electromagnetic_force(double charge1, double charge2, double radius) \n",
    "{\n",
    "    // Declaration of the electromagnetic force variable.  \n",
    "    double el_force, rad_pow; \n",
    "    \n",
    "    // Defining the electromagnetic force constant with a specific value \n",
    "    const double K = 8.99E9; \n",
    "    \n",
    "    // Getting r^2 \n",
    "    rad_pow = pow(radius, 2); \n",
    "    \n",
    "    // Calculating for the electromagnetic force \n",
    "    el_force = K * (charge1 * charge2)/rad_pow; \n",
    "    \n",
    "    // Returning the result \n",
    "    return el_force; \n",
    "}\n",
    "\n",
    "// Declaration of the charged particles with their corresponding values \n",
    "double charge1 = 0.66; \n",
    "double charge2 = 066; \n",
    "\n",
    "// Declaration of the radius \n",
    "double radius = 1.0E-16; \n",
    "\n",
    "// Calculating for electromagnetic force. \n",
    "double CalculatedElectromagneticForce; \n",
    "CalculatedElectromagneticForce = electromagnetic_force(charge1, charge2, radius); \n",
    "\n",
    "// Displaying the results \n",
    "std::cout << \"The Calculated Electromagnetic force is: \" << CalculatedElectromagneticForce << std::endl; "
   ]
  },
  {
   "cell_type": "code",
   "execution_count": 1,
   "metadata": {},
   "outputs": [
    {
     "name": "stdout",
     "output_type": "stream",
     "text": [
      "Enter your weight in pounds: "
     ]
    },
    {
     "name": "stdin",
     "output_type": "stream",
     "text": [
      " 32.1\n"
     ]
    },
    {
     "name": "stdout",
     "output_type": "stream",
     "text": [
      "32 pounds are 2 stone, 4 pound(s). \n",
      "\n"
     ]
    }
   ],
   "source": [
    "// Including the header files \n",
    "#include <iostream> \n",
    "#include <string> \n",
    "\n",
    "// Declaration of some variables \n",
    "const int lbs_per_stn = 14; \n",
    "int lbs; \n",
    "\n",
    "// Taking in the user's weight in pounds. \n",
    "std::cout << \"Enter your weight in pounds: \"; \n",
    "std::cin >> lbs; \n",
    "\n",
    "// Performing the calculation \n",
    "int stone = lbs / lbs_per_stn;  // whole stone \n",
    "int pounds = lbs % lbs_per_stn;   // remainder in pounds \n",
    "\n",
    "// Displaying the results for stone and pounds \n",
    "std::cout << lbs << \" pounds are \" << stone << \" stone, \" << pounds << \" pound(s). \\n\" \n",
    "                << std::endl; "
   ]
  },
  {
   "cell_type": "code",
   "execution_count": 2,
   "metadata": {},
   "outputs": [
    {
     "name": "stdout",
     "output_type": "stream",
     "text": [
      "Hello, my name is Mbonu Chinedum And i want to say that the story has moved on to the next line without breaking it.  And this is also the third line as well. \n"
     ]
    }
   ],
   "source": [
    "// Including the header files \n",
    "#include <iostream> \n",
    "#include <string> \n",
    "\n",
    "std::cout << \"Hello, my name is Mbonu Chinedum\" \n",
    "          << \" And i want to say that the story has moved on to the next line without breaking it. \"\n",
    "          << \" And this is also the third line as well. \" << std::endl; "
   ]
  },
  {
   "cell_type": "markdown",
   "metadata": {},
   "source": [
    "<h3> The CHAR Data Type </h3> "
   ]
  },
  {
   "cell_type": "code",
   "execution_count": 19,
   "metadata": {},
   "outputs": [
    {
     "name": "stdout",
     "output_type": "stream",
     "text": [
      "The value stored in the char variable alpha is: A\n",
      "Type just a single number: "
     ]
    },
    {
     "name": "stdin",
     "output_type": "stream",
     "text": [
      " W\n"
     ]
    },
    {
     "name": "stdout",
     "output_type": "stream",
     "text": [
      "The stored number is: W\n"
     ]
    }
   ],
   "source": [
    "// Including the header files \n",
    "#include <iostream> \n",
    "#include <string> \n",
    "#include <climits> \n",
    "\n",
    "// Creating a char variable \n",
    "char Alpha; \n",
    "Alpha = 'A'; \n",
    "\n",
    "// Getting the maximum value for CHAR \n",
    "int char_max = CHAR_MAX; \n",
    "\n",
    "// Trying to place a number inside the char datatype \n",
    "char singleNum; \n",
    "\n",
    "// Displaying the value \n",
    "std::cout << \"The value stored in the char variable alpha is: \" << Alpha << std::endl; \n",
    "\n",
    "// Taking in numbers and saving it into the singleNumber char datatyp\n",
    "std::cout << \"Type just a single number: \"; \n",
    "std::cin >> singleNum; \n",
    "\n",
    "// Displaying the number from the stored char variable \n",
    "std::cout << \"The stored number is: \" << singleNum << std::endl; "
   ]
  },
  {
   "cell_type": "code",
   "execution_count": 16,
   "metadata": {},
   "outputs": [
    {
     "name": "stdout",
     "output_type": "stream",
     "text": [
      "The maximum value for char is: 127\n"
     ]
    }
   ],
   "source": [
    "// Displaying the maximum value for char  \n",
    "std::cout << \"The maximum value for char is: \" << char_max << std::endl; "
   ]
  },
  {
   "cell_type": "code",
   "execution_count": 17,
   "metadata": {},
   "outputs": [
    {
     "data": {
      "text/plain": [
       "127"
      ]
     },
     "execution_count": 17,
     "metadata": {},
     "output_type": "execute_result"
    }
   ],
   "source": [
    "char_max"
   ]
  },
  {
   "cell_type": "markdown",
   "metadata": {},
   "source": [
    "<h3> Type Casts </h3>  <br> \n",
    "<p> <b> C++</b> empowers you to force type conversions explicity via the type cast mechanism. <br> \n",
    "<b> C++</b> recognizes the need for type rules, and it also recognizes the need to occasionally override those rules. The type cast comes in two forms. <br> \n",
    "For example, to convert an <b> int </b> value stored in a variable called <b> thorn</b> to type long, you can use either of the following expressions. </p>  "
   ]
  },
  {
   "cell_type": "code",
   "execution_count": 7,
   "metadata": {},
   "outputs": [],
   "source": [
    "// Including the header files \n",
    "#include <iostream> \n",
    "#include <string> \n",
    "\n",
    "// Creating an int variable \n",
    "int Age_value = 35; \n",
    "\n",
    "// Using Type-Cast for conversions to long \n",
    "long Long_Age = long(Age_value); \n",
    "\n",
    "// Using the Type-Cast for conversion to float \n",
    "float Float_Age = float(Age_value); \n",
    "\n",
    "// Using the Type-Cast for conversion to double \n",
    "double Double_Age = double(Age_value); "
   ]
  },
  {
   "cell_type": "code",
   "execution_count": 20,
   "metadata": {},
   "outputs": [
    {
     "data": {
      "text/plain": [
       "4.5000000"
      ]
     },
     "execution_count": 20,
     "metadata": {},
     "output_type": "execute_result"
    }
   ],
   "source": [
    "float numberValue = 4.5; \n",
    "\n",
    "// using type cast to convert the value \n",
    "double doubleValueNumber = double(numberValue); \n",
    "\n",
    "// Displaying the result\n",
    "// std::cout << numberValue << std::endl; \n",
    "typeid(numberValue).name(); \n",
    "\n",
    "doubleValueNumber "
   ]
  },
  {
   "cell_type": "code",
   "execution_count": 30,
   "metadata": {},
   "outputs": [
    {
     "name": "stdout",
     "output_type": "stream",
     "text": [
      "The converted int to long is: 35\n",
      "The converted int to float is: 35\n",
      "The converted int to double is: 35\n"
     ]
    }
   ],
   "source": [
    "// Displaying the conversion \n",
    "std::cout << \"The converted int to long is: \" << Conv_Age << std::endl; \n",
    "std::cout << \"The converted int to float is: \" << Float_Age << std::endl; \n",
    "std::cout << \"The converted int to double is: \" << Double_Age << std::endl; "
   ]
  },
  {
   "cell_type": "code",
   "execution_count": 55,
   "metadata": {},
   "outputs": [
    {
     "name": "stdout",
     "output_type": "stream",
     "text": [
      "The result for the conversion from double to int is: 56\n",
      "The result for the conversion from double to float is: 56.2837\n"
     ]
    }
   ],
   "source": [
    "// Declaring some specific variables. \n",
    "double coal_mass, methane_amount; \n",
    "\n",
    "// Definition of the double variables \n",
    "coal_mass = 11.278; \n",
    "methane_amount = 45.005678; \n",
    "\n",
    "// Performing the calculations for \"INT\"\n",
    "int int_result = int(coal_mass) + int(methane_amount); \n",
    "\n",
    "// Perfroming the calculations for \"FLOAT\" \n",
    "float float_result = float(coal_mass) + float(methane_amount); \n",
    "\n",
    "// Displaying the results for \"INT\" \n",
    "std::cout << \"The result for the conversion from double to int is: \" \n",
    "            << int_result << std::endl; \n",
    "\n",
    "// Displaying the results for \"FLOAT\" \n",
    "std::cout << \"The result for the conversion from double to float is: \" \n",
    "            << float_result << std::endl; \n"
   ]
  },
  {
   "cell_type": "code",
   "execution_count": 56,
   "metadata": {},
   "outputs": [
    {
     "name": "stdout",
     "output_type": "stream",
     "text": [
      "8.5\n"
     ]
    }
   ],
   "source": [
    "std::cout << float(4.5) + long(4.5) << std::endl; "
   ]
  },
  {
   "cell_type": "code",
   "execution_count": 1,
   "metadata": {},
   "outputs": [
    {
     "name": "stdout",
     "output_type": "stream",
     "text": [
      "Testing without adding std namespace \n"
     ]
    }
   ],
   "source": [
    "// Including the header files \n",
    "#include <iostream> \n",
    "#include <string> \n",
    "\n",
    "// using the standard namespace \n",
    "using namespace std; \n",
    "\n",
    "// Tesing just with only cout \n",
    "cout << \"Testing without adding std namespace \" << endl; "
   ]
  },
  {
   "cell_type": "markdown",
   "metadata": {},
   "source": [
    "<h3> Auto Declarations in C++11 </h3> <br> \n",
    "<p> <b> C++11 </b> introduces a facility that allows the compiler to deduce a type from the type of an <br> \n",
    "    initialization value. For this purpose it redefines the meaning of <b> auto</b>, a keyword dating back to C </p> <br> \n",
    "<p> Just use <b> auto </b> instead  of the type name in an initializing declaration, and the compiler assigns the variable the <br> \n",
    "    same type as that of the initializer </p> "
   ]
  },
  {
   "cell_type": "code",
   "execution_count": 5,
   "metadata": {},
   "outputs": [],
   "source": [
    "// Including the header files \n",
    "#include <iostream> \n",
    "#include <string> \n",
    "\n",
    "// Creating a variable using auto \n",
    "auto n = 100;       // n is int \n",
    "auto x = 1.5;       // x is double \n",
    "auto y = 1.3E12L;      // y is long double \n",
    "auto F = 6.65f;     // F is float "
   ]
  },
  {
   "cell_type": "code",
   "execution_count": 7,
   "metadata": {},
   "outputs": [
    {
     "name": "stdout",
     "output_type": "stream",
     "text": [
      " y = 1.3e+12\n",
      " n = 100\n",
      " x = 1.5\n",
      " F = 6.65\n"
     ]
    }
   ],
   "source": [
    "// Displaying the values \n",
    "std::cout << \" y = \" << y << std::endl; \n",
    "std::cout << \" n = \" << n << std::endl; \n",
    "std::cout << \" x = \" << x << std::endl; \n",
    "std::cout << \" F = \" << F << std::endl; "
   ]
  },
  {
   "cell_type": "code",
   "execution_count": 12,
   "metadata": {},
   "outputs": [
    {
     "name": "stdout",
     "output_type": "stream",
     "text": [
      "The area of the circle is: 50.272m^2\n"
     ]
    }
   ],
   "source": [
    "// Including the header files \n",
    "#include <iostream> \n",
    "#include <string> \n",
    "#include <cmath> \n",
    "\n",
    "// Testing some specific function \n",
    "int radius = 4; \n",
    "double area; \n",
    "\n",
    "// \n",
    "const double PIE = 3.142; \n",
    "\n",
    "/* The area of a circle is PIE * r^2   \n",
    "*/ \n",
    "\n",
    "// Getting the squared of the radius \n",
    "int radius_squared = pow(radius, 2); \n",
    "\n",
    "// Caclating for the area of the circle \n",
    "area = PIE * radius_squared; \n",
    "std::cout << \"The area of the circle is: \" << area << \"m^2\" << std::endl; "
   ]
  },
  {
   "cell_type": "markdown",
   "metadata": {},
   "source": [
    "<h1> Linear Momentum and Force </h1> \n",
    "<p> The scientific defintion of linear momentum is consistent with most people's intutive understanding of momentum. <br> \n",
    "    A large, fast moving object has greater momentum than a smaller, slower object.  <br> \n",
    "<b>Linear momentum </b> is defined as the product of a system's mass multiplied by it's velocity. In symbols, linear momentum is expressed as p = mv. </p> <br> \n",
    "<p> Momentum is directly proportional to the object's mass and also its velociy. Thus the greater an object's mass or the greater its velocity, the greater its momentum. Momentum p is a vector having the same direction as the velocity v. The SI unit for momentum is Kg m/s  </p> \n",
    "\n",
    "<h3> Example 1 </h3> \n",
    "<ol> \n",
    "    <li> Calculate the momentum of a 110-kg football player running at 8.00m/s. </li> \n",
    "    <li> Compare the player's momentum with the momentum of a hard thrown 0.410-kg football that has a speed of 25.0m/s. </li> \n",
    "    \n",
    "</ol> "
   ]
  },
  {
   "cell_type": "code",
   "execution_count": 4,
   "metadata": {},
   "outputs": [
    {
     "name": "stdout",
     "output_type": "stream",
     "text": [
      "The first momentum is: 880Kg.m/s\n",
      "The second momentum is: 10.25Kg.m/s\n",
      "\n",
      "The ratio of the player's momentum is: 85.8537\n"
     ]
    }
   ],
   "source": [
    "// Including the header files \n",
    "#include <iostream> \n",
    "#include <string> \n",
    "#include <cmath> \n",
    "\n",
    "// Performing the calculation \n",
    "// Declaration of some specific variables \n",
    "double mass = 110; \n",
    "double velocity = 8.00; \n",
    "\n",
    "// Calculating of the first momentum \n",
    "double momentum; \n",
    "momentum = mass * velocity; \n",
    "\n",
    "// Comparing the player's momentum with the momentum of a hard thrown 0.410-kg football. \n",
    "double mass_2 = 0.410; \n",
    "double velocity_2 = 25.0; \n",
    "\n",
    "// Calcuation of the second momentum \n",
    "double momentum_2; \n",
    "momentum_2 = mass_2 * velocity_2; \n",
    "\n",
    "// Displaying the results \n",
    "std::cout << \"The first momentum is: \" << momentum << \"Kg.m/s\" << std::endl; \n",
    "std::cout << \"The second momentum is: \" << momentum_2 << \"Kg.m/s\" << std::endl << std::endl; \n",
    "\n",
    "// Comparing momentum_1 and momentum_2 \n",
    "double momentum_ratio = momentum / momentum_2; \n",
    "std::cout << \"The ratio of the player's momentum is: \" << momentum_ratio << std::endl; "
   ]
  },
  {
   "cell_type": "markdown",
   "metadata": {},
   "source": [
    "<h2> Creating Arrays In C++ </h2> "
   ]
  },
  {
   "cell_type": "code",
   "execution_count": 7,
   "metadata": {},
   "outputs": [
    {
     "name": "stdout",
     "output_type": "stream",
     "text": [
      "Total yams = 21\n",
      "\n",
      "Size of yams array: 12bytes. \n",
      "Size of one element: 4bytes. \n",
      "Number of element in the array: 3\n"
     ]
    }
   ],
   "source": [
    "// Including the header file \n",
    "#include <iostream> \n",
    "#include <string> \n",
    "\n",
    "// Creating an array with three elements \n",
    "int yams[3];    // Creates an array with three elements \n",
    "yams[0] = 7; \n",
    "yams[1] = 8; \n",
    "yams[2] = 6; \n",
    "\n",
    "// Creating an array for the costs of yams \n",
    "int yam_costs[3] = {20, 30, 5};     \n",
    "\n",
    "// Displaying the result \n",
    "std::cout << \"Total yams = \"; \n",
    "std::cout << yams[0] + yams[1] + yams[2] << std::endl; \n",
    "\n",
    "// Displaying the size \n",
    "std::cout << \"\\nSize of yams array: \" << sizeof(yams) << \"bytes. \\n\"; \n",
    "std::cout << \"Size of one element: \" << sizeof(yams[0]) << \"bytes. \\n\"; \n",
    "std::cout << \"Number of element in the array: \" << sizeof(yams) / sizeof(yams[0]) << std::endl; "
   ]
  },
  {
   "cell_type": "code",
   "execution_count": 3,
   "metadata": {},
   "outputs": [
    {
     "data": {
      "text/plain": [
       "4"
      ]
     },
     "execution_count": 3,
     "metadata": {},
     "output_type": "execute_result"
    }
   ],
   "source": [
    "sizeof(int) "
   ]
  },
  {
   "cell_type": "markdown",
   "metadata": {},
   "source": [
    "<h3> String In Arrays </h3> "
   ]
  },
  {
   "cell_type": "code",
   "execution_count": 1,
   "metadata": {},
   "outputs": [
    {
     "name": "stdout",
     "output_type": "stream",
     "text": [
      "Enter your name: "
     ]
    },
    {
     "name": "stdin",
     "output_type": "stream",
     "text": [
      " Mbonu Chinedum\n"
     ]
    },
    {
     "name": "stdout",
     "output_type": "stream",
     "text": [
      "Enter your favourite dessert: "
     ]
    },
    {
     "name": "stdin",
     "output_type": "stream",
     "text": [
      " Grapes Juice\n"
     ]
    },
    {
     "name": "stdout",
     "output_type": "stream",
     "text": [
      "I have some delicious Grapes Juice for you, Mbonu Chinedum. \n"
     ]
    }
   ],
   "source": [
    "// Including the header files \n",
    "#include <iostream> \n",
    "#include <string> \n",
    "\n",
    "// // Creating an array string \n",
    "// char name[] = \"Kelvin\"; \n",
    "\n",
    "// Displaying the name \n",
    "// std::cout << \"Hello \" << name; \n",
    "\n",
    "// Creating constants \n",
    "const int ArSize = 20; \n",
    "char name[ArSize]; \n",
    "\n",
    "char dessert[ArSize]; \n",
    "\n",
    "// Displaying \n",
    "std::cout << \"Enter your name: \"; \n",
    "std::cin.getline(name, ArSize);   \n",
    "\n",
    "// Displaying \n",
    "std::cout << \"Enter your favourite dessert: \"; \n",
    "std::cin.getline(dessert, ArSize); \n",
    "\n",
    "// Displaying \n",
    "std::cout << \"I have some delicious \" << dessert; \n",
    "std::cout << \" for you, \" << name << \". \\n\";   "
   ]
  },
  {
   "cell_type": "code",
   "execution_count": 9,
   "metadata": {},
   "outputs": [
    {
     "name": "stdout",
     "output_type": "stream",
     "text": [
      "Hello Mike"
     ]
    }
   ],
   "source": [
    "// Using the normal string \n",
    "std::string second_name = \"Mike\"; \n",
    "\n",
    "// Displaying the second name \n",
    "std::cout << \"Hello \" << second_name; "
   ]
  },
  {
   "cell_type": "code",
   "execution_count": 1,
   "metadata": {},
   "outputs": [
    {
     "name": "stdout",
     "output_type": "stream",
     "text": [
      "Howdy! I'm C++owboy! What's your name? \n"
     ]
    },
    {
     "name": "stdin",
     "output_type": "stream",
     "text": [
      " chinedu\n"
     ]
    },
    {
     "name": "stdout",
     "output_type": "stream",
     "text": [
      "Well, chinedu, nice to meet you \n"
     ]
    }
   ],
   "source": [
    "// strings.cpp -- storing strings in an array \n",
    "#include <iostream> \n",
    "#include <string> \n",
    "\n",
    "// Creating some variables and constants. \n",
    "const int Size = 15; \n",
    "char name1[Size];     // Creating an empty array \n",
    "char name2[Size] = \"C++owboy\";     // Initialized the array \n",
    "\n",
    "// Taking in the user's inputs \n",
    "std::cout << \"Howdy! I'm \" << name2; \n",
    "std::cout << \"! What's your name? \\n\"; \n",
    "\n",
    "std::cin >> name1; \n",
    "std::cout << \"Well, \" << name1 << \", nice to meet you \\n\"; "
   ]
  },
  {
   "cell_type": "code",
   "execution_count": 2,
   "metadata": {},
   "outputs": [
    {
     "name": "stdout",
     "output_type": "stream",
     "text": [
      "The datatype is: PKc\n",
      "The datatype for Size is: i\n"
     ]
    }
   ],
   "source": [
    "// Creating a char variable using \"auto\" \n",
    "auto name3 = \"Chinedu\"; \n",
    "\n",
    "// Checking the type of data stored for the auto assignment operator \n",
    "std::cout << \"The datatype is: \" << typeid(name3).name() << std::endl; \n",
    "std::cout << \"The datatype for Size is: \" << typeid(Size).name() << std::endl; "
   ]
  },
  {
   "cell_type": "code",
   "execution_count": 3,
   "metadata": {},
   "outputs": [
    {
     "name": "stdout",
     "output_type": "stream",
     "text": [
      "Hello Chinedu\n"
     ]
    }
   ],
   "source": [
    "std::cout << \"Hello \" << name3 << std::endl; "
   ]
  },
  {
   "cell_type": "code",
   "execution_count": 4,
   "metadata": {},
   "outputs": [],
   "source": [
    "// std::cout << sizeof(name3); "
   ]
  },
  {
   "cell_type": "code",
   "execution_count": 5,
   "metadata": {},
   "outputs": [
    {
     "name": "stdout",
     "output_type": "stream",
     "text": [
      "Size of the array months: 24\n",
      "Size of the short datatype: 2\n",
      "\n",
      "Size of the months_int array: 48\n",
      "Size of the int datatype: 4\n"
     ]
    }
   ],
   "source": [
    "// strings.cpp -- storing strings in an array \n",
    "#include <iostream> \n",
    "#include <string> \n",
    "\n",
    "short months[12]; \n",
    "int months_int[12]; \n",
    "\n",
    "std::cout << \"Size of the array months: \" << sizeof(months) << std::endl; \n",
    "std::cout << \"Size of the short datatype: \" << sizeof(short) << std::endl << std::endl; \n",
    "\n",
    "std::cout << \"Size of the months_int array: \" << sizeof(months_int) << std::endl; \n",
    "std::cout << \"Size of the int datatype: \" << sizeof(int) << std::endl; "
   ]
  },
  {
   "cell_type": "code",
   "execution_count": 6,
   "metadata": {},
   "outputs": [
    {
     "name": "stdout",
     "output_type": "stream",
     "text": [
      "The number of elements are: 2"
     ]
    }
   ],
   "source": [
    "// Using C++11 standard to Arrays creation \n",
    "double earnings[] = {10.5E-12, 0.034E-12}; \n",
    "\n",
    "// Finding the numbers of elements present in the array \n",
    "int num_of_elements = sizeof(earnings) / sizeof(earnings[0]); \n",
    "\n",
    "// Displaying the number of elements in the array \n",
    "std::cout << \"The number of elements are: \" << num_of_elements; "
   ]
  },
  {
   "cell_type": "code",
   "execution_count": 9,
   "metadata": {},
   "outputs": [
    {
     "name": "stdout",
     "output_type": "stream",
     "text": [
      "3.57e-25\n"
     ]
    }
   ],
   "source": [
    "double first_value; \n",
    "double second_value; \n",
    "\n",
    "for (int i = 0; i<num_of_elements; i++) \n",
    "{\n",
    "    \n",
    "    if (i == 0)\n",
    "    {\n",
    "        first_value = earnings[i]; \n",
    "    }\n",
    "    \n",
    "    else if (i != 0) \n",
    "    {\n",
    "        second_value = earnings[i]; \n",
    "    }\n",
    "    \n",
    "}\n",
    "\n",
    "\n",
    "std::cout << first_value * second_value << std::endl; "
   ]
  },
  {
   "cell_type": "code",
   "execution_count": 4,
   "metadata": {},
   "outputs": [
    {
     "data": {
      "text/plain": [
       "1.0500000e-11"
      ]
     },
     "execution_count": 4,
     "metadata": {},
     "output_type": "execute_result"
    }
   ],
   "source": [
    "first_value"
   ]
  },
  {
   "cell_type": "code",
   "execution_count": 8,
   "metadata": {},
   "outputs": [
    {
     "data": {
      "text/plain": [
       "3.4000000e-14"
      ]
     },
     "execution_count": 8,
     "metadata": {},
     "output_type": "execute_result"
    }
   ],
   "source": [
    "second_value"
   ]
  },
  {
   "cell_type": "markdown",
   "metadata": {},
   "source": [
    "<h3> STRUCTURES IN C++ </h3> "
   ]
  },
  {
   "cell_type": "code",
   "execution_count": 35,
   "metadata": {},
   "outputs": [],
   "source": [
    "// Including the header files \n",
    "#include <iostream> \n",
    "#include <string> \n",
    "\n",
    "// Creating a structure \n",
    "struct first_structure {                 // Structure declaration \n",
    "    char full_name[20]; \n",
    "    float decimal_value; \n",
    "    double second_decimal_value; \n",
    "    // std::string FullName;\n",
    "}; "
   ]
  },
  {
   "cell_type": "code",
   "execution_count": 36,
   "metadata": {},
   "outputs": [],
   "source": [
    "first_structure nedu_struct {           // Structure definiton \n",
    "    \"Mbonu Chinedum\",\n",
    "    0.334E-10,\n",
    "    0.987E+9\n",
    "}; "
   ]
  },
  {
   "cell_type": "code",
   "execution_count": 53,
   "metadata": {},
   "outputs": [],
   "source": [
    "// Creating another structure \n",
    "#include <iostream> \n",
    "#include <string> \n",
    "\n",
    "// Creating a structure called inflatable \n",
    "struct inflatable {std::string full_name; float volume; double price; int Array[4];}; \n",
    "\n",
    "// Creating an object from the inflatable struct type \n",
    "inflatable first_user = {\"Mbonu Chinedu\", 0.98E-4, 0.677E-3, {3, 4, 5, 1}};   \n",
    "inflatable second_user = {\"Kelvin Smith\", 0.76f, 0.987e3, {3, 4, 6, 19}}; "
   ]
  },
  {
   "cell_type": "code",
   "execution_count": 67,
   "metadata": {},
   "outputs": [
    {
     "name": "stdout",
     "output_type": "stream",
     "text": [
      "The full name is: Alan Smith\n",
      "The volume is: 9.8e-05\n",
      "The price is: 0.000677\n"
     ]
    }
   ],
   "source": [
    "// Displaying some specific values from the struct inflatable first_user object \n",
    "std::cout << \"The full name is: \" << first_user.full_name << std::endl; \n",
    "std::cout << \"The volume is: \" << first_user.volume << std::endl; \n",
    "std::cout << \"The price is: \" << first_user.price << std::endl; "
   ]
  },
  {
   "cell_type": "code",
   "execution_count": 55,
   "metadata": {},
   "outputs": [
    {
     "name": "stdout",
     "output_type": "stream",
     "text": [
      "The full name is: Kelvin Smith\n",
      "The volume is: 0.76\n",
      "The price is: 987\n"
     ]
    }
   ],
   "source": [
    "// Displaying some specific values from the struct inflatable second_user object \n",
    "std::cout << \"The full name is: \" << second_user.full_name << std::endl; \n",
    "std::cout << \"The volume is: \" << second_user.volume << std::endl; \n",
    "std::cout << \"The price is: \" << second_user.price << std::endl; "
   ]
  },
  {
   "cell_type": "code",
   "execution_count": 61,
   "metadata": {},
   "outputs": [
    {
     "name": "stdout",
     "output_type": "stream",
     "text": [
      "The array values for the first user is: 0x7f3c3f366230"
     ]
    }
   ],
   "source": [
    "std::cout << \"The array values for the first user is: \" << first_user.Array; "
   ]
  },
  {
   "cell_type": "code",
   "execution_count": 65,
   "metadata": {},
   "outputs": [],
   "source": [
    "first_user.full_name = \"Alan Smith\"; "
   ]
  },
  {
   "cell_type": "code",
   "execution_count": 64,
   "metadata": {},
   "outputs": [
    {
     "data": {
      "text/plain": [
       "{ 3, 4, 6, 19 }"
      ]
     },
     "execution_count": 64,
     "metadata": {},
     "output_type": "execute_result"
    }
   ],
   "source": [
    "second_user.Array"
   ]
  },
  {
   "cell_type": "code",
   "execution_count": 66,
   "metadata": {},
   "outputs": [
    {
     "data": {
      "text/plain": [
       "\"Alan Smith\""
      ]
     },
     "execution_count": 66,
     "metadata": {},
     "output_type": "execute_result"
    }
   ],
   "source": [
    "first_user.full_name "
   ]
  },
  {
   "cell_type": "code",
   "execution_count": 2,
   "metadata": {},
   "outputs": [],
   "source": [
    "// Creating another structure \n",
    "#include <iostream> \n",
    "#include <string> \n",
    "\n",
    "// Creating a structure called inflatable \n",
    "struct inflatable {std::string full_name; float volume; double price; int Array[4];}; \n",
    "\n",
    "// Creating an Array of multiple structures \n",
    "inflatable users[2] = {{\"John Hart\", 0.98E-4, 0.677E-3, {3, 4, 5, 1}}, \n",
    "                       {\"Lethan sift\", 0.855E-12, 0.4322E-9, {2, 3, 10, 11}} };  "
   ]
  },
  {
   "cell_type": "code",
   "execution_count": 3,
   "metadata": {},
   "outputs": [
    {
     "name": "stdout",
     "output_type": "stream",
     "text": [
      "The full name for users0 is: John Hart\n"
     ]
    }
   ],
   "source": [
    "// Displaying the values in the struct for the object created in the \n",
    "// First index of the users array \n",
    "std::cout << \"The full name for users0 is: \" << users[0].full_name << std::endl; \n"
   ]
  },
  {
   "cell_type": "code",
   "execution_count": 4,
   "metadata": {},
   "outputs": [
    {
     "data": {
      "text/plain": [
       "\"Lethan sift\""
      ]
     },
     "execution_count": 4,
     "metadata": {},
     "output_type": "execute_result"
    }
   ],
   "source": [
    "users[1].full_name "
   ]
  },
  {
   "cell_type": "code",
   "execution_count": 5,
   "metadata": {},
   "outputs": [
    {
     "data": {
      "text/plain": [
       "{ @0x56443e82b820, @0x56443e82b860 }"
      ]
     },
     "execution_count": 5,
     "metadata": {},
     "output_type": "execute_result"
    }
   ],
   "source": [
    "users"
   ]
  },
  {
   "cell_type": "markdown",
   "metadata": {},
   "source": [
    "<h3> Utilizing the \"cin\" statement for taking in STRINGS </h3> "
   ]
  },
  {
   "cell_type": "code",
   "execution_count": 3,
   "metadata": {},
   "outputs": [
    {
     "name": "stdout",
     "output_type": "stream",
     "text": [
      "Type in your full name(stored in char variable): "
     ]
    },
    {
     "name": "stdin",
     "output_type": "stream",
     "text": [
      " helix\n"
     ]
    },
    {
     "data": {
      "text/plain": [
       "@0x7f2b500d6c80"
      ]
     },
     "execution_count": 3,
     "metadata": {},
     "output_type": "execute_result"
    }
   ],
   "source": [
    "/* Working with \"CHAR\" variables */ \n",
    "\n",
    "// Including the header files \n",
    "#include <iostream> \n",
    "#include <string> \n",
    "\n",
    "// Creating some specific string variables \n",
    "// size of the array \n",
    "const short ArSize = 20; \n",
    "\n",
    "// The names for the specific string variables \n",
    "char cha_fullName[ArSize];  \n",
    "\n",
    "// Taking in the user's input \n",
    "std::cout << \"Type in your full name(stored in char variable): \"; \n",
    "std::cin >> cha_fullName;   // This \"cin\" stops taking in user's input after a \"space\""
   ]
  },
  {
   "cell_type": "code",
   "execution_count": 4,
   "metadata": {},
   "outputs": [
    {
     "name": "stdout",
     "output_type": "stream",
     "text": [
      "Type in your full name(stored in fullchar variable): "
     ]
    },
    {
     "name": "stdin",
     "output_type": "stream",
     "text": [
      " hh\n"
     ]
    },
    {
     "name": "stdout",
     "output_type": "stream",
     "text": [
      "You typed the following: hh\n"
     ]
    }
   ],
   "source": [
    "// Taking in the user's input \n",
    "std::cout << \"Type in your full name(stored in fullchar variable): \"; \n",
    "std::cin.getline(cha_fullName, ArSize);   // This \"cin\" keeps on taking user's input even after a space, \n",
    "                                          // But stops when the maxmimum value for the \"ArSize\" has been exceeded. \n",
    "\n",
    "// Displaying the result of what was stored inside the cha_fullName variable \n",
    "std::cout << \"You typed the following: \" << cha_fullName << std::endl; "
   ]
  },
  {
   "cell_type": "code",
   "execution_count": 1,
   "metadata": {},
   "outputs": [
    {
     "name": "stdout",
     "output_type": "stream",
     "text": [
      "Type in your full name (stored in string variable): "
     ]
    },
    {
     "name": "stdin",
     "output_type": "stream",
     "text": [
      " chinedu\n"
     ]
    },
    {
     "name": "stdout",
     "output_type": "stream",
     "text": [
      "You typed the following: chinedu\n"
     ]
    }
   ],
   "source": [
    "/* Working with \"STRING\" variables */ \n",
    "\n",
    "// Including the header files \n",
    "#include <iostream> \n",
    "#include <string> \n",
    "\n",
    "// Creating a string variable with the name \"str_fullName\" \n",
    "std::string str_fullName;\n",
    "\n",
    "// Taking in the user input \n",
    "std::cout << \"Type in your full name (stored in string variable): \"; \n",
    "getline(std::cin, str_fullName);        // - THE REAL DEAL FOR TAKING IN USER'S INPUT \n",
    "\n",
    "// Displaying the result of what the user typed \n",
    "std::cout << \"You typed the following: \" << str_fullName << std::endl; "
   ]
  },
  {
   "cell_type": "code",
   "execution_count": 2,
   "metadata": {},
   "outputs": [
    {
     "name": "stdout",
     "output_type": "stream",
     "text": [
      "What is your password?______"
     ]
    },
    {
     "name": "stdin",
     "output_type": "stream",
     "text": [
      " hhh\n"
     ]
    },
    {
     "name": "stdout",
     "output_type": "stream",
     "text": [
      "Your password is wrong!, try again! \n"
     ]
    }
   ],
   "source": [
    "/* Performing conditions with the string variable */ \n",
    "// Including the header files \n",
    "#include <iostream> \n",
    "#include <string> \n",
    "\n",
    "// Creating a string variable. \n",
    "std::string condition; \n",
    "\n",
    "// The real password variable \n",
    "std::string password = \"kelvin_black10\"; \n",
    "\n",
    "// Asking a user a question and saving the answer inside the string condition \n",
    "// variable \n",
    "std::cout << \"What is your password?______'\\x8'\\x8'\\x8\"; \n",
    "getline(std::cin, condition); \n",
    "\n",
    "// Checking for verification \n",
    "if (condition == password)\n",
    "{\n",
    "    // Executing the block of code below if the condition above is met \n",
    "    std::cout << \"Your password is correct! \\n\"; \n",
    "}\n",
    "\n",
    "else \n",
    "{\n",
    "    // Executing the block of code below if the conditon above was not met \n",
    "    std::cout << \"Your password is wrong!, try again! \\n\"; \n",
    "}\n"
   ]
  },
  {
   "cell_type": "code",
   "execution_count": 6,
   "metadata": {},
   "outputs": [],
   "source": [
    "// Creating a simple struct \n",
    "// Including the header files \n",
    "#include <iostream> \n",
    "#include <string> \n",
    "\n",
    "// Struct \n",
    "struct stock_values {\n",
    "    char COMPANY_NAME[20]; \n",
    "    double HIGH_VALUE; \n",
    "    double LOW_VALUE;\n",
    "    double CLOSE_VALUE; \n",
    "    double OPEN_VALUE; \n",
    "    \n",
    "}; \n",
    "\n",
    "// Creating an object from the created struct data type \"stock_values\" \n",
    "stock_values first_company = {\"Xenon-labs\", 0.889E+20, 0.776E-10, 49.00, 23.44}; "
   ]
  },
  {
   "cell_type": "code",
   "execution_count": 9,
   "metadata": {},
   "outputs": [
    {
     "data": {
      "text/plain": [
       "\"Xenon-labs\u0000\u0000\u0000\u0000\u0000\u0000\u0000\u0000\""
      ]
     },
     "execution_count": 9,
     "metadata": {},
     "output_type": "execute_result"
    }
   ],
   "source": [
    "first_company.HIGH_VALUE; \n",
    "first_company.COMPANY_NAME"
   ]
  },
  {
   "cell_type": "markdown",
   "metadata": {},
   "source": [
    "<h3> Unions In C++ </h3> \n",
    "<p> A <b>union</b> is a data format that can hold different data types but only one type at a time. <br> \n",
    "    That is, whereas a structure can hold, say, an <b>int</b> and a <b> long </b> and a <b> double </b>, a union <br> \n",
    "    can hold an <b>int</b> or a long or a double.  The syntax is like that for a structure, but the meaning is different. </p> "
   ]
  },
  {
   "cell_type": "code",
   "execution_count": 1,
   "metadata": {},
   "outputs": [],
   "source": [
    "// Including the header files \n",
    "#include <iostream> \n",
    "#include <string> \n",
    "\n",
    "// Creating a union data type \n",
    "union one4all \n",
    "{\n",
    "    // Adding members to the union object type \n",
    "    int int_val; \n",
    "    long long_val; \n",
    "    double double_val; \n",
    "}; "
   ]
  },
  {
   "cell_type": "code",
   "execution_count": 2,
   "metadata": {},
   "outputs": [],
   "source": [
    "// Creating an object from the created union data type \n",
    "one4all pail; \n",
    "\n",
    "// Assigning one value for the union, because the union object can only hold one respective \n",
    "// Value for any call. \n",
    "// pail.int_val = 15;    \n",
    "pail.long_val = 200; "
   ]
  },
  {
   "cell_type": "code",
   "execution_count": 5,
   "metadata": {},
   "outputs": [
    {
     "data": {
      "text/plain": [
       "200"
      ]
     },
     "execution_count": 5,
     "metadata": {},
     "output_type": "execute_result"
    }
   ],
   "source": [
    "pail.long_val "
   ]
  },
  {
   "cell_type": "markdown",
   "metadata": {},
   "source": [
    "<h3> Enumerations In C++ </h3> \n",
    "<p> The <b>C++</b>  <b> enum </b> facility provides an alternative to <b> const </b> for creating symblic constants. It also lets you define <br> new types but in a fairly restricted fashion. The syntax for <b>enum</b> resembles structure syntax. </p> "
   ]
  },
  {
   "cell_type": "code",
   "execution_count": 6,
   "metadata": {},
   "outputs": [],
   "source": [
    "// Creating enumerations \n",
    "enum spectrum {red, orange, yellow, green, blue, violet, indigo, ultraviolet}; "
   ]
  },
  {
   "cell_type": "code",
   "execution_count": 11,
   "metadata": {},
   "outputs": [],
   "source": [
    "// Setting enumerator values \n",
    "enum bit {one = 1, two = 2, three = 3, four = 4}; "
   ]
  },
  {
   "cell_type": "code",
   "execution_count": 12,
   "metadata": {},
   "outputs": [],
   "source": [
    "bit valid_numbers; "
   ]
  },
  {
   "cell_type": "markdown",
   "metadata": {},
   "source": [
    "<h3> Pointers In C++ </h3> "
   ]
  },
  {
   "cell_type": "code",
   "execution_count": 1,
   "metadata": {},
   "outputs": [
    {
     "name": "stdout",
     "output_type": "stream",
     "text": [
      "The memory address for dec_value is: 0x7f88b43d3028\n"
     ]
    }
   ],
   "source": [
    "// Including the header files \n",
    "#include <iostream> \n",
    "#include <string> \n",
    "\n",
    "// Creating just a simple variable \n",
    "double dec_value = 34.87E-10; \n",
    "\n",
    "// Getting the memory address \n",
    "std::cout << \"The memory address for dec_value is: \" << &dec_value << std::endl; "
   ]
  },
  {
   "cell_type": "code",
   "execution_count": 11,
   "metadata": {},
   "outputs": [
    {
     "name": "stdout",
     "output_type": "stream",
     "text": [
      "The memory address is: 0x7f88b43d3050\n"
     ]
    }
   ],
   "source": [
    "// Creating pointers variables \n",
    "int updates = 6;     // declare a variable \n",
    "int *p_updates;      // declare a pointer to an int data type \n",
    "\n",
    "p_updates = &updates;     // Assign address of int to pointer. \n",
    "\n",
    "// Displaying the memory address \n",
    "std::cout << \"The memory address is: \" << p_updates << std::endl; "
   ]
  },
  {
   "cell_type": "code",
   "execution_count": 8,
   "metadata": {},
   "outputs": [],
   "source": [
    "*p_updates = *p_updates + 1; "
   ]
  },
  {
   "cell_type": "code",
   "execution_count": 12,
   "metadata": {},
   "outputs": [],
   "source": [
    "// Working with some other data types \n",
    "double volume_value = 60.876; \n",
    "\n",
    "// Getting the memory address for the volume_value \n",
    "double *vol_address = &volume_value; "
   ]
  },
  {
   "cell_type": "code",
   "execution_count": 13,
   "metadata": {},
   "outputs": [
    {
     "name": "stdout",
     "output_type": "stream",
     "text": [
      "The memory address for the volume value is: 0x7f88b43d3060\n"
     ]
    }
   ],
   "source": [
    "// Displaying the memory address for the volume_value \n",
    "std::cout << \"The memory address for the volume value is: \" << vol_address << std::endl; "
   ]
  },
  {
   "cell_type": "code",
   "execution_count": 16,
   "metadata": {},
   "outputs": [],
   "source": [
    "// Creating a constant size for the character array \n",
    "const int SIZE = 20; \n",
    "\n",
    "// Creating a random struct \n",
    "struct simple_struct \n",
    "{\n",
    "    char user_name[SIZE]; \n",
    "    double user_weight; \n",
    "    double user_BMI; \n",
    "}; \n",
    "\n",
    "// Creating a struct object for just one user with the specific username \n",
    "simple_struct josh_data = {\"Anthony Joshua\", 32.54, 0.9987E-10}; "
   ]
  },
  {
   "cell_type": "code",
   "execution_count": 19,
   "metadata": {},
   "outputs": [
    {
     "data": {
      "text/plain": [
       "9.9870000e-11"
      ]
     },
     "execution_count": 19,
     "metadata": {},
     "output_type": "execute_result"
    }
   ],
   "source": [
    "josh_data.user_BMI"
   ]
  },
  {
   "cell_type": "markdown",
   "metadata": {},
   "source": [
    "<h3> Combinations Of Types </h3> "
   ]
  },
  {
   "cell_type": "code",
   "execution_count": 2,
   "metadata": {},
   "outputs": [],
   "source": [
    "// Including the header files \n",
    "#include <iostream> \n",
    "#include <string> \n",
    "\n",
    "// Creating a struct data type. \n",
    "struct new_struct \n",
    "{\n",
    "    // Creating an int variable \n",
    "    int year; \n",
    "    double volume; \n",
    "    double density; \n",
    "}; \n"
   ]
  },
  {
   "cell_type": "code",
   "execution_count": 10,
   "metadata": {},
   "outputs": [
    {
     "name": "stdout",
     "output_type": "stream",
     "text": [
      "The value for year is: 1995\n",
      "The value for volume is: 5.6e-05\n",
      "The value for density is: 4.45e-09\n"
     ]
    }
   ],
   "source": [
    "// Creating a struct object from the created struct data type \n",
    "new_struct persona_input; \n",
    "\n",
    "// Assigning values to the structure members \n",
    "persona_input.year = 1995; \n",
    "persona_input.volume = 0.56E-4; \n",
    "persona_input.density = 0.445E-8; \n",
    "\n",
    "// Displaying the assigned values \n",
    "std::cout << \"The value for year is: \" << persona_input.year << std::endl; \n",
    "std::cout << \"The value for volume is: \" << persona_input.volume << std::endl; \n",
    "std::cout << \"The value for density is: \" << persona_input.density << std::endl; "
   ]
  },
  {
   "cell_type": "code",
   "execution_count": 6,
   "metadata": {},
   "outputs": [],
   "source": [
    "// Working on the created struct and creating a pointer variable for it. \n",
    "new_struct *struct_ptr = &persona_input               // Pointer created "
   ]
  },
  {
   "cell_type": "code",
   "execution_count": 15,
   "metadata": {},
   "outputs": [
    {
     "name": "stdout",
     "output_type": "stream",
     "text": [
      "The value for year is: 1995\n",
      "The value for volume is: 5.6e-05\n",
      "The value for density is: 4.45e-09\n"
     ]
    }
   ],
   "source": [
    "// Using Combinations now !!! \n",
    "struct_ptr -> year = 1996; \n",
    "struct_ptr -> volume = 65.23; \n",
    "struct_ptr -> density = 0.899E3; \n",
    "\n",
    "/* Did you notice that the values changed */ \n",
    "\n",
    "// Displaying the new values for the year, volume and density \n",
    "std::cout << \"The value for year is: \" << persona_input.year << std::endl; \n",
    "std::cout << \"The value for volume is: \" << persona_input.volume << std::endl; \n",
    "std::cout << \"The value for density is: \" << persona_input.density << std::endl; "
   ]
  },
  {
   "cell_type": "code",
   "execution_count": 16,
   "metadata": {},
   "outputs": [
    {
     "data": {
      "text/plain": [
       "1995"
      ]
     },
     "execution_count": 16,
     "metadata": {},
     "output_type": "execute_result"
    }
   ],
   "source": [
    "persona_input.year"
   ]
  },
  {
   "cell_type": "code",
   "execution_count": 13,
   "metadata": {},
   "outputs": [
    {
     "data": {
      "text/plain": [
       "@0x7ffc661cae38"
      ]
     },
     "execution_count": 13,
     "metadata": {},
     "output_type": "execute_result"
    }
   ],
   "source": [
    "// Getting the memory address for the created pointer address \n",
    "struct_ptr "
   ]
  },
  {
   "cell_type": "markdown",
   "metadata": {},
   "source": [
    "<h3> The vector template class </h3> "
   ]
  },
  {
   "cell_type": "code",
   "execution_count": 21,
   "metadata": {},
   "outputs": [],
   "source": [
    "// Including the header files \n",
    "#include <iostream>\n",
    "#include <string> \n",
    "#include <vector> \n",
    "\n",
    "// Creating a vector template class of type \"int\" \n",
    "std::vector <int> vec_array1 = {20, 30, 50, 100, 120}; \n",
    "std::vector <int> vec_array2(3); \n",
    "std::vector <int> vec_array3; "
   ]
  },
  {
   "cell_type": "code",
   "execution_count": 22,
   "metadata": {},
   "outputs": [],
   "source": [
    "vec_array3 = {10, 100, 121, 303}; "
   ]
  },
  {
   "cell_type": "code",
   "execution_count": 23,
   "metadata": {},
   "outputs": [
    {
     "data": {
      "text/plain": [
       "{ 10, 100, 121, 303 }"
      ]
     },
     "execution_count": 23,
     "metadata": {},
     "output_type": "execute_result"
    }
   ],
   "source": [
    "vec_array3 "
   ]
  },
  {
   "cell_type": "code",
   "execution_count": 24,
   "metadata": {},
   "outputs": [
    {
     "data": {
      "text/plain": [
       "4"
      ]
     },
     "execution_count": 24,
     "metadata": {},
     "output_type": "execute_result"
    }
   ],
   "source": [
    "vec_array3.size()    // Getting the number of elements inside the vector template "
   ]
  },
  {
   "cell_type": "code",
   "execution_count": 25,
   "metadata": {},
   "outputs": [
    {
     "name": "stdout",
     "output_type": "stream",
     "text": [
      "10\n",
      "100\n",
      "121\n",
      "303\n"
     ]
    }
   ],
   "source": [
    "for (int i = 0; i<vec_array3.size(); i++)\n",
    "{\n",
    "    std::cout << vec_array3[i] << std::endl; \n",
    "}"
   ]
  },
  {
   "cell_type": "code",
   "execution_count": 26,
   "metadata": {},
   "outputs": [
    {
     "name": "stdout",
     "output_type": "stream",
     "text": [
      "The content of vector vec_array1 is: 10"
     ]
    }
   ],
   "source": [
    "// Displaying just the content of a vector \n",
    "std::cout << \"The content of vector vec_array1 is: \" << vec_array3[0]; "
   ]
  },
  {
   "cell_type": "markdown",
   "metadata": {},
   "source": [
    "## C++ References \n",
    "\n",
    "<h3> Creating References </h3>\n",
    "\n",
    "<p> \n",
    "A refernce variable is an alias for an existing variable. It is created using the & operator. \n",
    "</p>"
   ]
  },
  {
   "cell_type": "code",
   "execution_count": 5,
   "metadata": {},
   "outputs": [],
   "source": [
    "// Including the header files \n",
    "#include <iostream> \n",
    "#include <string> \n",
    "\n",
    "// Setting the string \n",
    "std::string food = \"Pizza\"; "
   ]
  },
  {
   "cell_type": "code",
   "execution_count": 6,
   "metadata": {},
   "outputs": [],
   "source": [
    "// Using the reference \n",
    "std::string &meal = food; "
   ]
  },
  {
   "cell_type": "code",
   "execution_count": 7,
   "metadata": {},
   "outputs": [
    {
     "data": {
      "text/plain": [
       "\"Pizza\""
      ]
     },
     "execution_count": 7,
     "metadata": {},
     "output_type": "execute_result"
    }
   ],
   "source": [
    "food "
   ]
  },
  {
   "cell_type": "code",
   "execution_count": 8,
   "metadata": {},
   "outputs": [
    {
     "data": {
      "text/plain": [
       "\"Pizza\""
      ]
     },
     "execution_count": 8,
     "metadata": {},
     "output_type": "execute_result"
    }
   ],
   "source": [
    "meal "
   ]
  },
  {
   "cell_type": "code",
   "execution_count": 9,
   "metadata": {},
   "outputs": [
    {
     "data": {
      "text/plain": [
       "@0x7fff81786678"
      ]
     },
     "execution_count": 9,
     "metadata": {},
     "output_type": "execute_result"
    }
   ],
   "source": [
    "std::string food = \"Pizza\"; \n",
    "\n",
    "&food "
   ]
  },
  {
   "cell_type": "markdown",
   "metadata": {},
   "source": [
    "<h3> C++ Pointer </h3>\n",
    "\n",
    "<p> A pointer however, is a variable that stored the memory address as its value. <br> \n",
    "    A pointer variable points to a data type like int or string of the same type, and is created with the * operator. The address of the variable you're working ith is assigned to the pointer. \n",
    "\n",
    "</p>"
   ]
  },
  {
   "cell_type": "code",
   "execution_count": 10,
   "metadata": {},
   "outputs": [],
   "source": [
    "std::string food = \"Pizza\"; \n",
    "\n",
    "std::string *ptr = &food "
   ]
  },
  {
   "cell_type": "code",
   "execution_count": 13,
   "metadata": {},
   "outputs": [
    {
     "data": {
      "text/plain": [
       "\"Pizza\""
      ]
     },
     "execution_count": 13,
     "metadata": {},
     "output_type": "execute_result"
    }
   ],
   "source": []
  },
  {
   "cell_type": "markdown",
   "metadata": {},
   "source": [
    "<h3> C++ Modify Pointers </h3>\n",
    "\n",
    "<h4> Modify the Pointer Value </h4>\n",
    "\n",
    "<p> You can also change the pointer's value. But note that this will also change the value of the original variable </p>"
   ]
  },
  {
   "cell_type": "code",
   "execution_count": null,
   "metadata": {},
   "outputs": [],
   "source": []
  },
  {
   "cell_type": "code",
   "execution_count": null,
   "metadata": {},
   "outputs": [],
   "source": []
  },
  {
   "cell_type": "code",
   "execution_count": null,
   "metadata": {},
   "outputs": [],
   "source": []
  }
 ],
 "metadata": {
  "kernelspec": {
   "display_name": "C++11",
   "language": "C++11",
   "name": "xcpp11"
  },
  "language_info": {
   "codemirror_mode": "text/x-c++src",
   "file_extension": ".cpp",
   "mimetype": "text/x-c++src",
   "name": "c++",
   "version": "11"
  }
 },
 "nbformat": 4,
 "nbformat_minor": 4
}
