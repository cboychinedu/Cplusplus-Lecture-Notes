{
 "cells": [
  {
   "cell_type": "code",
   "execution_count": 2,
   "id": "0cd632f2-ae44-4790-bd9f-17c4cb170646",
   "metadata": {},
   "outputs": [
    {
     "name": "stderr",
     "output_type": "stream",
     "text": [
      "\u001b[1minput_line_8:4:6: \u001b[0m\u001b[0;1;31merror: \u001b[0m\u001b[1mno member named 'cout' in namespace 'std'\u001b[0m\n",
      "std::cout << str << std::endl; \n",
      "\u001b[0;1;32m~~~~~^\n",
      "\u001b[0m"
     ]
    },
    {
     "ename": "Interpreter Error",
     "evalue": "",
     "output_type": "error",
     "traceback": [
      "Interpreter Error: "
     ]
    }
   ],
   "source": [
    "char str[80] = \"Hello World\";  \n",
    "\n",
    "// Displying the character \n",
    "printf(\"Message is: %s "
   ]
  },
  {
   "cell_type": "code",
   "execution_count": null,
   "id": "83371f96-4d91-4ef7-aed9-ab4709a2078c",
   "metadata": {},
   "outputs": [],
   "source": []
  }
 ],
 "metadata": {
  "kernelspec": {
   "display_name": "C++17",
   "language": "C++17",
   "name": "xcpp17"
  },
  "language_info": {
   "codemirror_mode": "text/x-c++src",
   "file_extension": ".cpp",
   "mimetype": "text/x-c++src",
   "name": "c++",
   "version": "17"
  }
 },
 "nbformat": 4,
 "nbformat_minor": 5
}
