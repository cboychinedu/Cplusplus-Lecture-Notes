{
 "cells": [
  {
   "cell_type": "code",
   "execution_count": 8,
   "id": "0cd632f2-ae44-4790-bd9f-17c4cb170646",
   "metadata": {},
   "outputs": [],
   "source": [
    "#include <cmath> \n",
    "#include <iostream>\n",
    "#include <string> "
   ]
  },
  {
   "cell_type": "markdown",
   "id": "3703efb8-22be-494c-a879-365d5bd31286",
   "metadata": {},
   "source": [
    "### If statements in C++ "
   ]
  },
  {
   "cell_type": "code",
   "execution_count": 15,
   "id": "8f82c5ba-3e22-493a-bc7c-9fa850995cf2",
   "metadata": {},
   "outputs": [],
   "source": [
    "int age = 28;  \n",
    "std::string name = \"Mbonu Chinedum\"; "
   ]
  },
  {
   "cell_type": "code",
   "execution_count": 17,
   "id": "7872810e-6913-428c-9f66-35a76ecf538d",
   "metadata": {},
   "outputs": [
    {
     "data": {
      "text/plain": [
       "\"i\""
      ]
     },
     "execution_count": 17,
     "metadata": {},
     "output_type": "execute_result"
    }
   ],
   "source": [
    "typeid(age).name()"
   ]
  },
  {
   "cell_type": "code",
   "execution_count": 19,
   "id": "729b54e8-c926-4ed8-8eb7-1c329af37dce",
   "metadata": {},
   "outputs": [
    {
     "data": {
      "text/plain": [
       "\"NSt7__cxx1112basic_stringIcSt11char_traitsIcESaIcEEE\""
      ]
     },
     "execution_count": 19,
     "metadata": {},
     "output_type": "execute_result"
    }
   ],
   "source": [
    "typeid(name).name() "
   ]
  },
  {
   "cell_type": "code",
   "execution_count": null,
   "id": "79309bbf-714c-4c9e-8e8b-cbc03ddad618",
   "metadata": {},
   "outputs": [],
   "source": []
  }
 ],
 "metadata": {
  "kernelspec": {
   "display_name": "C++17",
   "language": "C++17",
   "name": "xcpp17"
  },
  "language_info": {
   "codemirror_mode": "text/x-c++src",
   "file_extension": ".cpp",
   "mimetype": "text/x-c++src",
   "name": "c++",
   "version": "17"
  }
 },
 "nbformat": 4,
 "nbformat_minor": 5
}
