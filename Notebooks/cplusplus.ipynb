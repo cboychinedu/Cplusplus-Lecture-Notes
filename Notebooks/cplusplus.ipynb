{
 "cells": [
  {
   "cell_type": "code",
   "execution_count": 2,
   "id": "0cd632f2-ae44-4790-bd9f-17c4cb170646",
   "metadata": {},
   "outputs": [],
   "source": [
    "#include <cmath> \n",
    "#include <iostream> "
   ]
  },
  {
   "cell_type": "markdown",
   "id": "3703efb8-22be-494c-a879-365d5bd31286",
   "metadata": {},
   "source": [
    "### If statements in C++ "
   ]
  },
  {
   "cell_type": "code",
   "execution_count": null,
   "id": "8f82c5ba-3e22-493a-bc7c-9fa850995cf2",
   "metadata": {},
   "outputs": [],
   "source": [
    "int age; \n",
    "\n",
    "std::cout << \"Enter your age: \"; \n",
    "std::cin >> age; \n",
    "\n",
    "\n",
    "if(age >= 18) {\n",
    "    \n",
    "}"
   ]
  },
  {
   "cell_type": "code",
   "execution_count": null,
   "id": "7872810e-6913-428c-9f66-35a76ecf538d",
   "metadata": {},
   "outputs": [],
   "source": []
  }
 ],
 "metadata": {
  "kernelspec": {
   "display_name": "C++17",
   "language": "C++17",
   "name": "xcpp17"
  },
  "language_info": {
   "codemirror_mode": "text/x-c++src",
   "file_extension": ".cpp",
   "mimetype": "text/x-c++src",
   "name": "c++",
   "version": "17"
  }
 },
 "nbformat": 4,
 "nbformat_minor": 5
}
