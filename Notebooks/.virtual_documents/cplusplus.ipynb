#include <cmath> 
#include <iostream>
#include <string> 





int age = 28;  
std::string name = "Mbonu Chinedum"; 


typeid(age).name()


typeid(name).name() 



